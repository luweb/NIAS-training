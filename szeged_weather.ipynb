{
 "cells": [
  {
   "cell_type": "code",
   "execution_count": 1,
   "id": "ba2de82b",
   "metadata": {
    "_cell_guid": "b1076dfc-b9ad-4769-8c92-a6c4dae69d19",
    "_uuid": "8f2839f25d086af736a60e9eeb907d3b93b6e0e5",
    "execution": {
     "iopub.execute_input": "2022-01-10T19:41:25.925656Z",
     "iopub.status.busy": "2022-01-10T19:41:25.924975Z",
     "iopub.status.idle": "2022-01-10T19:41:27.598133Z",
     "shell.execute_reply": "2022-01-10T19:41:27.597292Z",
     "shell.execute_reply.started": "2022-01-10T19:30:58.220664Z"
    },
    "papermill": {
     "duration": 1.707514,
     "end_time": "2022-01-10T19:41:27.598318",
     "exception": false,
     "start_time": "2022-01-10T19:41:25.890804",
     "status": "completed"
    },
    "tags": []
   },
   "outputs": [
    {
     "data": {
      "text/html": [
       "<div>\n",
       "<style scoped>\n",
       "    .dataframe tbody tr th:only-of-type {\n",
       "        vertical-align: middle;\n",
       "    }\n",
       "\n",
       "    .dataframe tbody tr th {\n",
       "        vertical-align: top;\n",
       "    }\n",
       "\n",
       "    .dataframe thead th {\n",
       "        text-align: right;\n",
       "    }\n",
       "</style>\n",
       "<table border=\"1\" class=\"dataframe\">\n",
       "  <thead>\n",
       "    <tr style=\"text-align: right;\">\n",
       "      <th></th>\n",
       "      <th>Formatted Date</th>\n",
       "      <th>Summary</th>\n",
       "      <th>Precip Type</th>\n",
       "      <th>Temperature (C)</th>\n",
       "      <th>Apparent Temperature (C)</th>\n",
       "      <th>Humidity</th>\n",
       "      <th>Wind Speed (km/h)</th>\n",
       "      <th>Wind Bearing (degrees)</th>\n",
       "      <th>Visibility (km)</th>\n",
       "      <th>Loud Cover</th>\n",
       "      <th>Pressure (millibars)</th>\n",
       "      <th>Daily Summary</th>\n",
       "    </tr>\n",
       "  </thead>\n",
       "  <tbody>\n",
       "    <tr>\n",
       "      <th>0</th>\n",
       "      <td>2006-04-01 00:00:00.000 +0200</td>\n",
       "      <td>Partly Cloudy</td>\n",
       "      <td>rain</td>\n",
       "      <td>9.472222</td>\n",
       "      <td>7.388889</td>\n",
       "      <td>0.89</td>\n",
       "      <td>14.1197</td>\n",
       "      <td>251.0</td>\n",
       "      <td>15.8263</td>\n",
       "      <td>0.0</td>\n",
       "      <td>1015.13</td>\n",
       "      <td>Partly cloudy throughout the day.</td>\n",
       "    </tr>\n",
       "    <tr>\n",
       "      <th>1</th>\n",
       "      <td>2006-04-01 01:00:00.000 +0200</td>\n",
       "      <td>Partly Cloudy</td>\n",
       "      <td>rain</td>\n",
       "      <td>9.355556</td>\n",
       "      <td>7.227778</td>\n",
       "      <td>0.86</td>\n",
       "      <td>14.2646</td>\n",
       "      <td>259.0</td>\n",
       "      <td>15.8263</td>\n",
       "      <td>0.0</td>\n",
       "      <td>1015.63</td>\n",
       "      <td>Partly cloudy throughout the day.</td>\n",
       "    </tr>\n",
       "    <tr>\n",
       "      <th>2</th>\n",
       "      <td>2006-04-01 02:00:00.000 +0200</td>\n",
       "      <td>Mostly Cloudy</td>\n",
       "      <td>rain</td>\n",
       "      <td>9.377778</td>\n",
       "      <td>9.377778</td>\n",
       "      <td>0.89</td>\n",
       "      <td>3.9284</td>\n",
       "      <td>204.0</td>\n",
       "      <td>14.9569</td>\n",
       "      <td>0.0</td>\n",
       "      <td>1015.94</td>\n",
       "      <td>Partly cloudy throughout the day.</td>\n",
       "    </tr>\n",
       "    <tr>\n",
       "      <th>3</th>\n",
       "      <td>2006-04-01 03:00:00.000 +0200</td>\n",
       "      <td>Partly Cloudy</td>\n",
       "      <td>rain</td>\n",
       "      <td>8.288889</td>\n",
       "      <td>5.944444</td>\n",
       "      <td>0.83</td>\n",
       "      <td>14.1036</td>\n",
       "      <td>269.0</td>\n",
       "      <td>15.8263</td>\n",
       "      <td>0.0</td>\n",
       "      <td>1016.41</td>\n",
       "      <td>Partly cloudy throughout the day.</td>\n",
       "    </tr>\n",
       "    <tr>\n",
       "      <th>4</th>\n",
       "      <td>2006-04-01 04:00:00.000 +0200</td>\n",
       "      <td>Mostly Cloudy</td>\n",
       "      <td>rain</td>\n",
       "      <td>8.755556</td>\n",
       "      <td>6.977778</td>\n",
       "      <td>0.83</td>\n",
       "      <td>11.0446</td>\n",
       "      <td>259.0</td>\n",
       "      <td>15.8263</td>\n",
       "      <td>0.0</td>\n",
       "      <td>1016.51</td>\n",
       "      <td>Partly cloudy throughout the day.</td>\n",
       "    </tr>\n",
       "  </tbody>\n",
       "</table>\n",
       "</div>"
      ],
      "text/plain": [
       "                  Formatted Date        Summary Precip Type  Temperature (C)  \\\n",
       "0  2006-04-01 00:00:00.000 +0200  Partly Cloudy        rain         9.472222   \n",
       "1  2006-04-01 01:00:00.000 +0200  Partly Cloudy        rain         9.355556   \n",
       "2  2006-04-01 02:00:00.000 +0200  Mostly Cloudy        rain         9.377778   \n",
       "3  2006-04-01 03:00:00.000 +0200  Partly Cloudy        rain         8.288889   \n",
       "4  2006-04-01 04:00:00.000 +0200  Mostly Cloudy        rain         8.755556   \n",
       "\n",
       "   Apparent Temperature (C)  Humidity  Wind Speed (km/h)  \\\n",
       "0                  7.388889      0.89            14.1197   \n",
       "1                  7.227778      0.86            14.2646   \n",
       "2                  9.377778      0.89             3.9284   \n",
       "3                  5.944444      0.83            14.1036   \n",
       "4                  6.977778      0.83            11.0446   \n",
       "\n",
       "   Wind Bearing (degrees)  Visibility (km)  Loud Cover  Pressure (millibars)  \\\n",
       "0                   251.0          15.8263         0.0               1015.13   \n",
       "1                   259.0          15.8263         0.0               1015.63   \n",
       "2                   204.0          14.9569         0.0               1015.94   \n",
       "3                   269.0          15.8263         0.0               1016.41   \n",
       "4                   259.0          15.8263         0.0               1016.51   \n",
       "\n",
       "                       Daily Summary  \n",
       "0  Partly cloudy throughout the day.  \n",
       "1  Partly cloudy throughout the day.  \n",
       "2  Partly cloudy throughout the day.  \n",
       "3  Partly cloudy throughout the day.  \n",
       "4  Partly cloudy throughout the day.  "
      ]
     },
     "execution_count": 1,
     "metadata": {},
     "output_type": "execute_result"
    }
   ],
   "source": [
    "import numpy as np # linear algebra\n",
    "import pandas as pd # data processing, CSV file I/O (e.g. pd.read_csv)\n",
    "import matplotlib.pyplot as plt\n",
    "import seaborn as sns\n",
    "%matplotlib inline\n",
    "\n",
    "df = pd.read_csv(\"/kaggle/input/szeged-weather/weatherHistory.csv\")\n",
    "df.head()"
   ]
  },
  {
   "cell_type": "markdown",
   "id": "d87ba144",
   "metadata": {
    "papermill": {
     "duration": 0.024654,
     "end_time": "2022-01-10T19:41:27.652134",
     "exception": false,
     "start_time": "2022-01-10T19:41:27.627480",
     "status": "completed"
    },
    "tags": []
   },
   "source": [
    "# Exploração do banco de dados"
   ]
  },
  {
   "cell_type": "markdown",
   "id": "ba721f5c",
   "metadata": {
    "papermill": {
     "duration": 0.02723,
     "end_time": "2022-01-10T19:41:27.708727",
     "exception": false,
     "start_time": "2022-01-10T19:41:27.681497",
     "status": "completed"
    },
    "tags": []
   },
   "source": [
    "**1. O primeiro passo é importar e visualizar o banco de dados, rastrear os valores faltantes e identificar os momentos estatísticos existentes**"
   ]
  },
  {
   "cell_type": "code",
   "execution_count": 2,
   "id": "41b7bd52",
   "metadata": {
    "execution": {
     "iopub.execute_input": "2022-01-10T19:41:27.813479Z",
     "iopub.status.busy": "2022-01-10T19:41:27.812451Z",
     "iopub.status.idle": "2022-01-10T19:41:27.822940Z",
     "shell.execute_reply": "2022-01-10T19:41:27.823830Z",
     "shell.execute_reply.started": "2022-01-10T19:30:58.535859Z"
    },
    "papermill": {
     "duration": 0.089911,
     "end_time": "2022-01-10T19:41:27.824093",
     "exception": false,
     "start_time": "2022-01-10T19:41:27.734182",
     "status": "completed"
    },
    "tags": []
   },
   "outputs": [
    {
     "data": {
      "text/plain": [
       "Formatted Date                0\n",
       "Summary                       0\n",
       "Precip Type                 517\n",
       "Temperature (C)               0\n",
       "Apparent Temperature (C)      0\n",
       "Humidity                      0\n",
       "Wind Speed (km/h)             0\n",
       "Wind Bearing (degrees)        0\n",
       "Visibility (km)               0\n",
       "Loud Cover                    0\n",
       "Pressure (millibars)          0\n",
       "Daily Summary                 0\n",
       "dtype: int64"
      ]
     },
     "execution_count": 2,
     "metadata": {},
     "output_type": "execute_result"
    }
   ],
   "source": [
    "# número de valores faltantes em cada coluna\n",
    "df.isna().sum()"
   ]
  },
  {
   "cell_type": "code",
   "execution_count": 3,
   "id": "9e64b07e",
   "metadata": {
    "execution": {
     "iopub.execute_input": "2022-01-10T19:41:27.901340Z",
     "iopub.status.busy": "2022-01-10T19:41:27.900244Z",
     "iopub.status.idle": "2022-01-10T19:41:27.915373Z",
     "shell.execute_reply": "2022-01-10T19:41:27.914519Z",
     "shell.execute_reply.started": "2022-01-10T19:30:58.589635Z"
    },
    "papermill": {
     "duration": 0.058946,
     "end_time": "2022-01-10T19:41:27.915564",
     "exception": false,
     "start_time": "2022-01-10T19:41:27.856618",
     "status": "completed"
    },
    "tags": []
   },
   "outputs": [
    {
     "data": {
      "text/plain": [
       "array(['rain', 'snow', nan], dtype=object)"
      ]
     },
     "execution_count": 3,
     "metadata": {},
     "output_type": "execute_result"
    }
   ],
   "source": [
    "df[\"Precip Type\"].unique()"
   ]
  },
  {
   "cell_type": "markdown",
   "id": "30f72179",
   "metadata": {
    "papermill": {
     "duration": 0.024208,
     "end_time": "2022-01-10T19:41:27.965688",
     "exception": false,
     "start_time": "2022-01-10T19:41:27.941480",
     "status": "completed"
    },
    "tags": []
   },
   "source": [
    "**Qual sua hipótese para a existência desses valores faltantes?**\n",
    "\n",
    "Teve chuva e neve? Granizo? Algum outro tipo de precipitation?"
   ]
  },
  {
   "cell_type": "code",
   "execution_count": 4,
   "id": "edbbff79",
   "metadata": {
    "execution": {
     "iopub.execute_input": "2022-01-10T19:41:28.019877Z",
     "iopub.status.busy": "2022-01-10T19:41:28.018803Z",
     "iopub.status.idle": "2022-01-10T19:41:28.089864Z",
     "shell.execute_reply": "2022-01-10T19:41:28.090347Z",
     "shell.execute_reply.started": "2022-01-10T19:30:58.608592Z"
    },
    "papermill": {
     "duration": 0.100158,
     "end_time": "2022-01-10T19:41:28.090547",
     "exception": false,
     "start_time": "2022-01-10T19:41:27.990389",
     "status": "completed"
    },
    "tags": []
   },
   "outputs": [
    {
     "data": {
      "text/html": [
       "<div>\n",
       "<style scoped>\n",
       "    .dataframe tbody tr th:only-of-type {\n",
       "        vertical-align: middle;\n",
       "    }\n",
       "\n",
       "    .dataframe tbody tr th {\n",
       "        vertical-align: top;\n",
       "    }\n",
       "\n",
       "    .dataframe thead th {\n",
       "        text-align: right;\n",
       "    }\n",
       "</style>\n",
       "<table border=\"1\" class=\"dataframe\">\n",
       "  <thead>\n",
       "    <tr style=\"text-align: right;\">\n",
       "      <th></th>\n",
       "      <th>Temperature (C)</th>\n",
       "      <th>Apparent Temperature (C)</th>\n",
       "      <th>Humidity</th>\n",
       "      <th>Wind Speed (km/h)</th>\n",
       "      <th>Wind Bearing (degrees)</th>\n",
       "      <th>Visibility (km)</th>\n",
       "      <th>Loud Cover</th>\n",
       "      <th>Pressure (millibars)</th>\n",
       "    </tr>\n",
       "  </thead>\n",
       "  <tbody>\n",
       "    <tr>\n",
       "      <th>count</th>\n",
       "      <td>96453.000000</td>\n",
       "      <td>96453.000000</td>\n",
       "      <td>96453.000000</td>\n",
       "      <td>96453.000000</td>\n",
       "      <td>96453.000000</td>\n",
       "      <td>96453.000000</td>\n",
       "      <td>96453.0</td>\n",
       "      <td>96453.000000</td>\n",
       "    </tr>\n",
       "    <tr>\n",
       "      <th>mean</th>\n",
       "      <td>11.932678</td>\n",
       "      <td>10.855029</td>\n",
       "      <td>0.734899</td>\n",
       "      <td>10.810640</td>\n",
       "      <td>187.509232</td>\n",
       "      <td>10.347325</td>\n",
       "      <td>0.0</td>\n",
       "      <td>1003.235956</td>\n",
       "    </tr>\n",
       "    <tr>\n",
       "      <th>std</th>\n",
       "      <td>9.551546</td>\n",
       "      <td>10.696847</td>\n",
       "      <td>0.195473</td>\n",
       "      <td>6.913571</td>\n",
       "      <td>107.383428</td>\n",
       "      <td>4.192123</td>\n",
       "      <td>0.0</td>\n",
       "      <td>116.969906</td>\n",
       "    </tr>\n",
       "    <tr>\n",
       "      <th>min</th>\n",
       "      <td>-21.822222</td>\n",
       "      <td>-27.716667</td>\n",
       "      <td>0.000000</td>\n",
       "      <td>0.000000</td>\n",
       "      <td>0.000000</td>\n",
       "      <td>0.000000</td>\n",
       "      <td>0.0</td>\n",
       "      <td>0.000000</td>\n",
       "    </tr>\n",
       "    <tr>\n",
       "      <th>25%</th>\n",
       "      <td>4.688889</td>\n",
       "      <td>2.311111</td>\n",
       "      <td>0.600000</td>\n",
       "      <td>5.828200</td>\n",
       "      <td>116.000000</td>\n",
       "      <td>8.339800</td>\n",
       "      <td>0.0</td>\n",
       "      <td>1011.900000</td>\n",
       "    </tr>\n",
       "    <tr>\n",
       "      <th>50%</th>\n",
       "      <td>12.000000</td>\n",
       "      <td>12.000000</td>\n",
       "      <td>0.780000</td>\n",
       "      <td>9.965900</td>\n",
       "      <td>180.000000</td>\n",
       "      <td>10.046400</td>\n",
       "      <td>0.0</td>\n",
       "      <td>1016.450000</td>\n",
       "    </tr>\n",
       "    <tr>\n",
       "      <th>75%</th>\n",
       "      <td>18.838889</td>\n",
       "      <td>18.838889</td>\n",
       "      <td>0.890000</td>\n",
       "      <td>14.135800</td>\n",
       "      <td>290.000000</td>\n",
       "      <td>14.812000</td>\n",
       "      <td>0.0</td>\n",
       "      <td>1021.090000</td>\n",
       "    </tr>\n",
       "    <tr>\n",
       "      <th>max</th>\n",
       "      <td>39.905556</td>\n",
       "      <td>39.344444</td>\n",
       "      <td>1.000000</td>\n",
       "      <td>63.852600</td>\n",
       "      <td>359.000000</td>\n",
       "      <td>16.100000</td>\n",
       "      <td>0.0</td>\n",
       "      <td>1046.380000</td>\n",
       "    </tr>\n",
       "  </tbody>\n",
       "</table>\n",
       "</div>"
      ],
      "text/plain": [
       "       Temperature (C)  Apparent Temperature (C)      Humidity  \\\n",
       "count     96453.000000              96453.000000  96453.000000   \n",
       "mean         11.932678                 10.855029      0.734899   \n",
       "std           9.551546                 10.696847      0.195473   \n",
       "min         -21.822222                -27.716667      0.000000   \n",
       "25%           4.688889                  2.311111      0.600000   \n",
       "50%          12.000000                 12.000000      0.780000   \n",
       "75%          18.838889                 18.838889      0.890000   \n",
       "max          39.905556                 39.344444      1.000000   \n",
       "\n",
       "       Wind Speed (km/h)  Wind Bearing (degrees)  Visibility (km)  Loud Cover  \\\n",
       "count       96453.000000            96453.000000     96453.000000     96453.0   \n",
       "mean           10.810640              187.509232        10.347325         0.0   \n",
       "std             6.913571              107.383428         4.192123         0.0   \n",
       "min             0.000000                0.000000         0.000000         0.0   \n",
       "25%             5.828200              116.000000         8.339800         0.0   \n",
       "50%             9.965900              180.000000        10.046400         0.0   \n",
       "75%            14.135800              290.000000        14.812000         0.0   \n",
       "max            63.852600              359.000000        16.100000         0.0   \n",
       "\n",
       "       Pressure (millibars)  \n",
       "count          96453.000000  \n",
       "mean            1003.235956  \n",
       "std              116.969906  \n",
       "min                0.000000  \n",
       "25%             1011.900000  \n",
       "50%             1016.450000  \n",
       "75%             1021.090000  \n",
       "max             1046.380000  "
      ]
     },
     "execution_count": 4,
     "metadata": {},
     "output_type": "execute_result"
    }
   ],
   "source": [
    "# momentos estatísticos do banco de dados\n",
    "df.describe()"
   ]
  },
  {
   "cell_type": "code",
   "execution_count": 5,
   "id": "c6a2294b",
   "metadata": {
    "execution": {
     "iopub.execute_input": "2022-01-10T19:41:28.148123Z",
     "iopub.status.busy": "2022-01-10T19:41:28.146857Z",
     "iopub.status.idle": "2022-01-10T19:41:29.746993Z",
     "shell.execute_reply": "2022-01-10T19:41:29.747511Z",
     "shell.execute_reply.started": "2022-01-10T19:30:58.669689Z"
    },
    "papermill": {
     "duration": 1.63078,
     "end_time": "2022-01-10T19:41:29.747705",
     "exception": false,
     "start_time": "2022-01-10T19:41:28.116925",
     "status": "completed"
    },
    "tags": []
   },
   "outputs": [
    {
     "name": "stderr",
     "output_type": "stream",
     "text": [
      "/opt/conda/lib/python3.7/site-packages/ipykernel_launcher.py:3: UserWarning: To output multiple subplots, the figure containing the passed axes is being cleared\n",
      "  This is separate from the ipykernel package so we can avoid doing imports until\n"
     ]
    },
    {
     "data": {
      "text/plain": [
       "array([[<AxesSubplot:title={'center':'Temperature (C)'}>,\n",
       "        <AxesSubplot:title={'center':'Apparent Temperature (C)'}>,\n",
       "        <AxesSubplot:title={'center':'Humidity'}>],\n",
       "       [<AxesSubplot:title={'center':'Wind Speed (km/h)'}>,\n",
       "        <AxesSubplot:title={'center':'Wind Bearing (degrees)'}>,\n",
       "        <AxesSubplot:title={'center':'Visibility (km)'}>],\n",
       "       [<AxesSubplot:title={'center':'Loud Cover'}>,\n",
       "        <AxesSubplot:title={'center':'Pressure (millibars)'}>,\n",
       "        <AxesSubplot:>]], dtype=object)"
      ]
     },
     "execution_count": 5,
     "metadata": {},
     "output_type": "execute_result"
    },
    {
     "data": {
      "image/png": "[encoded data removed]",
      "text/plain": [
       "<Figure size 864x864 with 9 Axes>"
      ]
     },
     "metadata": {
      "needs_background": "light"
     },
     "output_type": "display_data"
    }
   ],
   "source": [
    "fig = plt.figure(figsize = (12,12))\n",
    "ax = fig.gca()\n",
    "df.hist(ax = ax)"
   ]
  },
  {
   "cell_type": "markdown",
   "id": "c5b06f8d",
   "metadata": {
    "papermill": {
     "duration": 0.027601,
     "end_time": "2022-01-10T19:41:29.803382",
     "exception": false,
     "start_time": "2022-01-10T19:41:29.775781",
     "status": "completed"
    },
    "tags": []
   },
   "source": [
    "**É possível identificar algo de estranho com a coluna “Pressure(millibars)”. Identifique e explique o que há de errado**\n",
    "\n",
    "Existem valores muito próximos de zero, ou iguais a zero."
   ]
  },
  {
   "cell_type": "code",
   "execution_count": 6,
   "id": "97bf3850",
   "metadata": {
    "execution": {
     "iopub.execute_input": "2022-01-10T19:41:29.863018Z",
     "iopub.status.busy": "2022-01-10T19:41:29.861963Z",
     "iopub.status.idle": "2022-01-10T19:41:29.868829Z",
     "shell.execute_reply": "2022-01-10T19:41:29.869303Z",
     "shell.execute_reply.started": "2022-01-10T19:31:00.022091Z"
    },
    "papermill": {
     "duration": 0.038308,
     "end_time": "2022-01-10T19:41:29.869482",
     "exception": false,
     "start_time": "2022-01-10T19:41:29.831174",
     "status": "completed"
    },
    "tags": []
   },
   "outputs": [
    {
     "data": {
      "text/plain": [
       "1288"
      ]
     },
     "execution_count": 6,
     "metadata": {},
     "output_type": "execute_result"
    }
   ],
   "source": [
    "#quantidade de valores errados\n",
    "df[\"Pressure (millibars)\"].loc[df[\"Pressure (millibars)\"]==0].count()"
   ]
  },
  {
   "cell_type": "code",
   "execution_count": 7,
   "id": "18250ae9",
   "metadata": {
    "execution": {
     "iopub.execute_input": "2022-01-10T19:41:29.929104Z",
     "iopub.status.busy": "2022-01-10T19:41:29.928092Z",
     "iopub.status.idle": "2022-01-10T19:41:29.940095Z",
     "shell.execute_reply": "2022-01-10T19:41:29.939399Z",
     "shell.execute_reply.started": "2022-01-10T19:31:00.031931Z"
    },
    "papermill": {
     "duration": 0.043057,
     "end_time": "2022-01-10T19:41:29.940259",
     "exception": false,
     "start_time": "2022-01-10T19:41:29.897202",
     "status": "completed"
    },
    "tags": []
   },
   "outputs": [
    {
     "name": "stderr",
     "output_type": "stream",
     "text": [
      "/opt/conda/lib/python3.7/site-packages/pandas/core/indexing.py:1732: SettingWithCopyWarning: \n",
      "A value is trying to be set on a copy of a slice from a DataFrame\n",
      "\n",
      "See the caveats in the documentation: https://pandas.pydata.org/pandas-docs/stable/user_guide/indexing.html#returning-a-view-versus-a-copy\n",
      "  self._setitem_single_block(indexer, value, name)\n"
     ]
    }
   ],
   "source": [
    "# replace zeros by NaN\n",
    "df[\"Pressure (millibars)\"].loc[df[\"Pressure (millibars)\"]==0] = np.nan"
   ]
  },
  {
   "cell_type": "markdown",
   "id": "0c28bc6d",
   "metadata": {
    "papermill": {
     "duration": 0.028371,
     "end_time": "2022-01-10T19:41:29.997103",
     "exception": false,
     "start_time": "2022-01-10T19:41:29.968732",
     "status": "completed"
    },
    "tags": []
   },
   "source": [
    "**2. Deve-se agora definir quais são as features categóricas e quais são as numéricas, para isso existe o método “.select_dtypes”, aqui será necessário identificar apenas os nomes das features**\n"
   ]
  },
  {
   "cell_type": "code",
   "execution_count": 8,
   "id": "d722391c",
   "metadata": {
    "execution": {
     "iopub.execute_input": "2022-01-10T19:41:30.059899Z",
     "iopub.status.busy": "2022-01-10T19:41:30.058581Z",
     "iopub.status.idle": "2022-01-10T19:41:30.064706Z",
     "shell.execute_reply": "2022-01-10T19:41:30.065209Z",
     "shell.execute_reply.started": "2022-01-10T19:31:00.045197Z"
    },
    "papermill": {
     "duration": 0.038312,
     "end_time": "2022-01-10T19:41:30.065403",
     "exception": false,
     "start_time": "2022-01-10T19:41:30.027091",
     "status": "completed"
    },
    "tags": []
   },
   "outputs": [],
   "source": [
    "categorical_cols = [cname for cname in df.columns if df[cname].dtype  == \"object\"]\n",
    "numerical_cols = [cname for cname in df.columns if df[cname].dtype in ['int64', 'float64']]"
   ]
  },
  {
   "cell_type": "code",
   "execution_count": 9,
   "id": "f4be3066",
   "metadata": {
    "execution": {
     "iopub.execute_input": "2022-01-10T19:41:30.125899Z",
     "iopub.status.busy": "2022-01-10T19:41:30.124837Z",
     "iopub.status.idle": "2022-01-10T19:41:30.183943Z",
     "shell.execute_reply": "2022-01-10T19:41:30.184506Z",
     "shell.execute_reply.started": "2022-01-10T19:31:00.058267Z"
    },
    "papermill": {
     "duration": 0.091237,
     "end_time": "2022-01-10T19:41:30.184705",
     "exception": false,
     "start_time": "2022-01-10T19:41:30.093468",
     "status": "completed"
    },
    "tags": []
   },
   "outputs": [
    {
     "name": "stdout",
     "output_type": "stream",
     "text": [
      "<class 'pandas.core.frame.DataFrame'>\n",
      "RangeIndex: 96453 entries, 0 to 96452\n",
      "Data columns (total 12 columns):\n",
      " #   Column                    Non-Null Count  Dtype  \n",
      "---  ------                    --------------  -----  \n",
      " 0   Formatted Date            96453 non-null  object \n",
      " 1   Summary                   96453 non-null  object \n",
      " 2   Precip Type               95936 non-null  object \n",
      " 3   Temperature (C)           96453 non-null  float64\n",
      " 4   Apparent Temperature (C)  96453 non-null  float64\n",
      " 5   Humidity                  96453 non-null  float64\n",
      " 6   Wind Speed (km/h)         96453 non-null  float64\n",
      " 7   Wind Bearing (degrees)    96453 non-null  float64\n",
      " 8   Visibility (km)           96453 non-null  float64\n",
      " 9   Loud Cover                96453 non-null  float64\n",
      " 10  Pressure (millibars)      95165 non-null  float64\n",
      " 11  Daily Summary             96453 non-null  object \n",
      "dtypes: float64(8), object(4)\n",
      "memory usage: 8.8+ MB\n"
     ]
    }
   ],
   "source": [
    "df.info()"
   ]
  },
  {
   "cell_type": "code",
   "execution_count": 10,
   "id": "eac4c1f1",
   "metadata": {
    "execution": {
     "iopub.execute_input": "2022-01-10T19:41:30.260249Z",
     "iopub.status.busy": "2022-01-10T19:41:30.259158Z",
     "iopub.status.idle": "2022-01-10T19:41:30.265484Z",
     "shell.execute_reply": "2022-01-10T19:41:30.266085Z",
     "shell.execute_reply.started": "2022-01-10T19:31:00.130001Z"
    },
    "papermill": {
     "duration": 0.053007,
     "end_time": "2022-01-10T19:41:30.266264",
     "exception": false,
     "start_time": "2022-01-10T19:41:30.213257",
     "status": "completed"
    },
    "tags": []
   },
   "outputs": [
    {
     "data": {
      "text/plain": [
       "rain    85224\n",
       "snow    10712\n",
       "NaN       517\n",
       "Name: Precip Type, dtype: int64"
      ]
     },
     "execution_count": 10,
     "metadata": {},
     "output_type": "execute_result"
    }
   ],
   "source": [
    "df[\"Precip Type\"].value_counts(dropna=False)"
   ]
  },
  {
   "cell_type": "code",
   "execution_count": 11,
   "id": "0846b637",
   "metadata": {
    "execution": {
     "iopub.execute_input": "2022-01-10T19:41:30.342521Z",
     "iopub.status.busy": "2022-01-10T19:41:30.341790Z",
     "iopub.status.idle": "2022-01-10T19:41:30.349556Z",
     "shell.execute_reply": "2022-01-10T19:41:30.350176Z",
     "shell.execute_reply.started": "2022-01-10T19:31:00.154609Z"
    },
    "papermill": {
     "duration": 0.05526,
     "end_time": "2022-01-10T19:41:30.350363",
     "exception": false,
     "start_time": "2022-01-10T19:41:30.295103",
     "status": "completed"
    },
    "tags": []
   },
   "outputs": [
    {
     "data": {
      "text/plain": [
       "Partly Cloudy                          31733\n",
       "Mostly Cloudy                          28094\n",
       "Overcast                               16597\n",
       "Clear                                  10890\n",
       "Foggy                                   7148\n",
       "Breezy and Overcast                      528\n",
       "Breezy and Mostly Cloudy                 516\n",
       "Breezy and Partly Cloudy                 386\n",
       "Dry and Partly Cloudy                     86\n",
       "Windy and Partly Cloudy                   67\n",
       "Light Rain                                63\n",
       "Breezy                                    54\n",
       "Windy and Overcast                        45\n",
       "Humid and Mostly Cloudy                   40\n",
       "Drizzle                                   39\n",
       "Breezy and Foggy                          35\n",
       "Windy and Mostly Cloudy                   35\n",
       "Dry                                       34\n",
       "Humid and Partly Cloudy                   17\n",
       "Dry and Mostly Cloudy                     14\n",
       "Rain                                      10\n",
       "Windy                                      8\n",
       "Humid and Overcast                         7\n",
       "Windy and Foggy                            4\n",
       "Windy and Dry                              1\n",
       "Dangerously Windy and Partly Cloudy        1\n",
       "Breezy and Dry                             1\n",
       "Name: Summary, dtype: int64"
      ]
     },
     "execution_count": 11,
     "metadata": {},
     "output_type": "execute_result"
    }
   ],
   "source": [
    "df[\"Summary\"].value_counts()"
   ]
  },
  {
   "cell_type": "code",
   "execution_count": 12,
   "id": "062a772e",
   "metadata": {
    "execution": {
     "iopub.execute_input": "2022-01-10T19:41:30.416042Z",
     "iopub.status.busy": "2022-01-10T19:41:30.415209Z",
     "iopub.status.idle": "2022-01-10T19:41:30.436709Z",
     "shell.execute_reply": "2022-01-10T19:41:30.437556Z",
     "shell.execute_reply.started": "2022-01-10T19:31:00.178970Z"
    },
    "papermill": {
     "duration": 0.0563,
     "end_time": "2022-01-10T19:41:30.437811",
     "exception": false,
     "start_time": "2022-01-10T19:41:30.381511",
     "status": "completed"
    },
    "tags": []
   },
   "outputs": [
    {
     "data": {
      "text/plain": [
       "Mostly cloudy throughout the day.                                                                       20085\n",
       "Partly cloudy throughout the day.                                                                        9981\n",
       "Partly cloudy until night.                                                                               6169\n",
       "Partly cloudy starting in the morning.                                                                   5184\n",
       "Foggy in the morning.                                                                                    4201\n",
       "                                                                                                        ...  \n",
       "Breezy starting overnight continuing until morning and foggy overnight.                                    24\n",
       "Mostly cloudy throughout the day and breezy starting overnight continuing until afternoon.                 24\n",
       "Partly cloudy starting in the morning and breezy starting in the afternoon continuing until evening.       24\n",
       "Rain until afternoon.                                                                                      24\n",
       "Foggy starting overnight continuing until morning and breezy in the afternoon.                             23\n",
       "Name: Daily Summary, Length: 214, dtype: int64"
      ]
     },
     "execution_count": 12,
     "metadata": {},
     "output_type": "execute_result"
    }
   ],
   "source": [
    "df[\"Daily Summary\"].value_counts()"
   ]
  },
  {
   "cell_type": "markdown",
   "id": "ff084bab",
   "metadata": {
    "papermill": {
     "duration": 0.030461,
     "end_time": "2022-01-10T19:41:30.500943",
     "exception": false,
     "start_time": "2022-01-10T19:41:30.470482",
     "status": "completed"
    },
    "tags": []
   },
   "source": [
    "# Limpeza do banco de dados"
   ]
  },
  {
   "cell_type": "markdown",
   "id": "14dee940",
   "metadata": {
    "papermill": {
     "duration": 0.029948,
     "end_time": "2022-01-10T19:41:30.561202",
     "exception": false,
     "start_time": "2022-01-10T19:41:30.531254",
     "status": "completed"
    },
    "tags": []
   },
   "source": [
    "**1. Uma das features do tipo “object” é “Formatted Date” que, na verdade, indica a data do registro climático. Essa coluna deverá então ser transformada para o formato de data para que seja possível extrair informações úteis para o treinamento do modelo**"
   ]
  },
  {
   "cell_type": "code",
   "execution_count": 13,
   "id": "5b977add",
   "metadata": {
    "execution": {
     "iopub.execute_input": "2022-01-10T19:41:30.628376Z",
     "iopub.status.busy": "2022-01-10T19:41:30.627324Z",
     "iopub.status.idle": "2022-01-10T19:41:31.063847Z",
     "shell.execute_reply": "2022-01-10T19:41:31.063284Z",
     "shell.execute_reply.started": "2022-01-10T19:31:00.204796Z"
    },
    "papermill": {
     "duration": 0.470772,
     "end_time": "2022-01-10T19:41:31.064012",
     "exception": false,
     "start_time": "2022-01-10T19:41:30.593240",
     "status": "completed"
    },
    "tags": []
   },
   "outputs": [
    {
     "data": {
      "text/html": [
       "<div>\n",
       "<style scoped>\n",
       "    .dataframe tbody tr th:only-of-type {\n",
       "        vertical-align: middle;\n",
       "    }\n",
       "\n",
       "    .dataframe tbody tr th {\n",
       "        vertical-align: top;\n",
       "    }\n",
       "\n",
       "    .dataframe thead th {\n",
       "        text-align: right;\n",
       "    }\n",
       "</style>\n",
       "<table border=\"1\" class=\"dataframe\">\n",
       "  <thead>\n",
       "    <tr style=\"text-align: right;\">\n",
       "      <th></th>\n",
       "      <th>Summary</th>\n",
       "      <th>Precip Type</th>\n",
       "      <th>Temperature (C)</th>\n",
       "      <th>Apparent Temperature (C)</th>\n",
       "      <th>Humidity</th>\n",
       "      <th>Wind Speed (km/h)</th>\n",
       "      <th>Wind Bearing (degrees)</th>\n",
       "      <th>Visibility (km)</th>\n",
       "      <th>Loud Cover</th>\n",
       "      <th>Pressure (millibars)</th>\n",
       "      <th>Daily Summary</th>\n",
       "      <th>year</th>\n",
       "      <th>month</th>\n",
       "      <th>day</th>\n",
       "      <th>hour</th>\n",
       "    </tr>\n",
       "  </thead>\n",
       "  <tbody>\n",
       "    <tr>\n",
       "      <th>0</th>\n",
       "      <td>Partly Cloudy</td>\n",
       "      <td>rain</td>\n",
       "      <td>9.472222</td>\n",
       "      <td>7.388889</td>\n",
       "      <td>0.89</td>\n",
       "      <td>14.1197</td>\n",
       "      <td>251.0</td>\n",
       "      <td>15.8263</td>\n",
       "      <td>0.0</td>\n",
       "      <td>1015.13</td>\n",
       "      <td>Partly cloudy throughout the day.</td>\n",
       "      <td>2006</td>\n",
       "      <td>4</td>\n",
       "      <td>1</td>\n",
       "      <td>0</td>\n",
       "    </tr>\n",
       "    <tr>\n",
       "      <th>1</th>\n",
       "      <td>Partly Cloudy</td>\n",
       "      <td>rain</td>\n",
       "      <td>9.355556</td>\n",
       "      <td>7.227778</td>\n",
       "      <td>0.86</td>\n",
       "      <td>14.2646</td>\n",
       "      <td>259.0</td>\n",
       "      <td>15.8263</td>\n",
       "      <td>0.0</td>\n",
       "      <td>1015.63</td>\n",
       "      <td>Partly cloudy throughout the day.</td>\n",
       "      <td>2006</td>\n",
       "      <td>4</td>\n",
       "      <td>1</td>\n",
       "      <td>1</td>\n",
       "    </tr>\n",
       "    <tr>\n",
       "      <th>2</th>\n",
       "      <td>Mostly Cloudy</td>\n",
       "      <td>rain</td>\n",
       "      <td>9.377778</td>\n",
       "      <td>9.377778</td>\n",
       "      <td>0.89</td>\n",
       "      <td>3.9284</td>\n",
       "      <td>204.0</td>\n",
       "      <td>14.9569</td>\n",
       "      <td>0.0</td>\n",
       "      <td>1015.94</td>\n",
       "      <td>Partly cloudy throughout the day.</td>\n",
       "      <td>2006</td>\n",
       "      <td>4</td>\n",
       "      <td>1</td>\n",
       "      <td>2</td>\n",
       "    </tr>\n",
       "    <tr>\n",
       "      <th>3</th>\n",
       "      <td>Partly Cloudy</td>\n",
       "      <td>rain</td>\n",
       "      <td>8.288889</td>\n",
       "      <td>5.944444</td>\n",
       "      <td>0.83</td>\n",
       "      <td>14.1036</td>\n",
       "      <td>269.0</td>\n",
       "      <td>15.8263</td>\n",
       "      <td>0.0</td>\n",
       "      <td>1016.41</td>\n",
       "      <td>Partly cloudy throughout the day.</td>\n",
       "      <td>2006</td>\n",
       "      <td>4</td>\n",
       "      <td>1</td>\n",
       "      <td>3</td>\n",
       "    </tr>\n",
       "    <tr>\n",
       "      <th>4</th>\n",
       "      <td>Mostly Cloudy</td>\n",
       "      <td>rain</td>\n",
       "      <td>8.755556</td>\n",
       "      <td>6.977778</td>\n",
       "      <td>0.83</td>\n",
       "      <td>11.0446</td>\n",
       "      <td>259.0</td>\n",
       "      <td>15.8263</td>\n",
       "      <td>0.0</td>\n",
       "      <td>1016.51</td>\n",
       "      <td>Partly cloudy throughout the day.</td>\n",
       "      <td>2006</td>\n",
       "      <td>4</td>\n",
       "      <td>1</td>\n",
       "      <td>4</td>\n",
       "    </tr>\n",
       "  </tbody>\n",
       "</table>\n",
       "</div>"
      ],
      "text/plain": [
       "         Summary Precip Type  Temperature (C)  Apparent Temperature (C)  \\\n",
       "0  Partly Cloudy        rain         9.472222                  7.388889   \n",
       "1  Partly Cloudy        rain         9.355556                  7.227778   \n",
       "2  Mostly Cloudy        rain         9.377778                  9.377778   \n",
       "3  Partly Cloudy        rain         8.288889                  5.944444   \n",
       "4  Mostly Cloudy        rain         8.755556                  6.977778   \n",
       "\n",
       "   Humidity  Wind Speed (km/h)  Wind Bearing (degrees)  Visibility (km)  \\\n",
       "0      0.89            14.1197                   251.0          15.8263   \n",
       "1      0.86            14.2646                   259.0          15.8263   \n",
       "2      0.89             3.9284                   204.0          14.9569   \n",
       "3      0.83            14.1036                   269.0          15.8263   \n",
       "4      0.83            11.0446                   259.0          15.8263   \n",
       "\n",
       "   Loud Cover  Pressure (millibars)                      Daily Summary  year  \\\n",
       "0         0.0               1015.13  Partly cloudy throughout the day.  2006   \n",
       "1         0.0               1015.63  Partly cloudy throughout the day.  2006   \n",
       "2         0.0               1015.94  Partly cloudy throughout the day.  2006   \n",
       "3         0.0               1016.41  Partly cloudy throughout the day.  2006   \n",
       "4         0.0               1016.51  Partly cloudy throughout the day.  2006   \n",
       "\n",
       "   month  day  hour  \n",
       "0      4    1     0  \n",
       "1      4    1     1  \n",
       "2      4    1     2  \n",
       "3      4    1     3  \n",
       "4      4    1     4  "
      ]
     },
     "execution_count": 13,
     "metadata": {},
     "output_type": "execute_result"
    }
   ],
   "source": [
    "df[\"Formatted Date\"] = df[\"Formatted Date\"].str.split(\"+\", expand=True)[0]\n",
    "df['Date'] = pd.to_datetime(df['Formatted Date'])\n",
    "df['year'] = df['Date'].dt.year\n",
    "df['month'] = df['Date'].dt.month\n",
    "df['day'] = df['Date'].dt.day\n",
    "df['hour'] = df['Date'].dt.hour\n",
    "df.drop(['Formatted Date', 'Date'], axis=1, inplace=True)\n",
    "df.head()"
   ]
  },
  {
   "cell_type": "markdown",
   "id": "6163e156",
   "metadata": {
    "papermill": {
     "duration": 0.031683,
     "end_time": "2022-01-10T19:41:31.126715",
     "exception": false,
     "start_time": "2022-01-10T19:41:31.095032",
     "status": "completed"
    },
    "tags": []
   },
   "source": [
    "**2. Agora será criada a pipeline para completar a limpeza dos dados, com ela será realizada a substituição dos valores faltantes nas colunas “Pressure (millibars)” e “Precip Type” e o encoding, utilizando ordinal encoder, das variáveis categóricas. Para isso será utilizada a biblioteca Column Transformer do sklearn, mas antes deverão ser retirados os dados que não servirão para o treinamento do modelo.**"
   ]
  },
  {
   "cell_type": "code",
   "execution_count": 14,
   "id": "c1224727",
   "metadata": {
    "execution": {
     "iopub.execute_input": "2022-01-10T19:41:31.198338Z",
     "iopub.status.busy": "2022-01-10T19:41:31.197299Z",
     "iopub.status.idle": "2022-01-10T19:41:31.289035Z",
     "shell.execute_reply": "2022-01-10T19:41:31.288459Z",
     "shell.execute_reply.started": "2022-01-10T19:31:00.809162Z"
    },
    "papermill": {
     "duration": 0.130019,
     "end_time": "2022-01-10T19:41:31.289185",
     "exception": false,
     "start_time": "2022-01-10T19:41:31.159166",
     "status": "completed"
    },
    "tags": []
   },
   "outputs": [],
   "source": [
    "#Retirar a coluna “Loud Cover”, já que contém apenas valores nulos, e linhas cujo valor da coluna “Summary” aparecem apenas uma vez\n",
    "df.drop(['Loud Cover'], axis=1, inplace=True)\n",
    "df.drop(df[df.Summary=='Windy and Dry'].index, inplace=True)\n",
    "df.drop(df[df.Summary=='Dangerously Windy and Partly Cloudy'].index, inplace=True)\n",
    "df.drop(df[df.Summary=='Breezy and Dry'].index, inplace=True)"
   ]
  },
  {
   "cell_type": "code",
   "execution_count": 15,
   "id": "0b1c7c9f",
   "metadata": {
    "execution": {
     "iopub.execute_input": "2022-01-10T19:41:31.360170Z",
     "iopub.status.busy": "2022-01-10T19:41:31.359423Z",
     "iopub.status.idle": "2022-01-10T19:41:31.828679Z",
     "shell.execute_reply": "2022-01-10T19:41:31.827928Z",
     "shell.execute_reply.started": "2022-01-10T19:31:00.899397Z"
    },
    "papermill": {
     "duration": 0.509152,
     "end_time": "2022-01-10T19:41:31.828867",
     "exception": false,
     "start_time": "2022-01-10T19:41:31.319715",
     "status": "completed"
    },
    "tags": []
   },
   "outputs": [],
   "source": [
    "#Definir imputers para variáveis numéricas e para categóricas, e o encoder das variáveis categóricas\n",
    "from sklearn.compose import ColumnTransformer\n",
    "from sklearn.pipeline import Pipeline\n",
    "from sklearn.impute import SimpleImputer\n",
    "from sklearn.preprocessing import OrdinalEncoder\n",
    "from sklearn.preprocessing import LabelEncoder\n",
    "\n",
    "\n",
    "X = df.copy()\n",
    "y = X.pop(\"Daily Summary\")\n",
    "\n",
    "categorical_cols = [cname for cname in X.columns if X[cname].dtype  == \"object\"]\n",
    "numerical_cols = [cname for cname in X.columns if X[cname].dtype in ['int64', 'float64']]\n",
    "\n",
    "numerical_transformer = SimpleImputer(strategy='mean')\n",
    "\n",
    "categorical_transformer = Pipeline(steps=[\n",
    "    ('imputer', SimpleImputer(strategy='most_frequent')),\n",
    "    ('onehot', OrdinalEncoder())\n",
    "])\n",
    "\n",
    "preprocessor = ColumnTransformer(\n",
    "    transformers=[\n",
    "    ('num', numerical_transformer, numerical_cols),\n",
    "    ('cat', categorical_transformer, categorical_cols)\n",
    "])\n",
    "\n",
    "label_encoder = LabelEncoder()"
   ]
  },
  {
   "cell_type": "code",
   "execution_count": 16,
   "id": "2377d27e",
   "metadata": {
    "execution": {
     "iopub.execute_input": "2022-01-10T19:41:32.012928Z",
     "iopub.status.busy": "2022-01-10T19:41:32.007322Z",
     "iopub.status.idle": "2022-01-10T19:41:34.419401Z",
     "shell.execute_reply": "2022-01-10T19:41:34.418683Z",
     "shell.execute_reply.started": "2022-01-10T19:31:00.913592Z"
    },
    "papermill": {
     "duration": 2.560201,
     "end_time": "2022-01-10T19:41:34.419561",
     "exception": false,
     "start_time": "2022-01-10T19:41:31.859360",
     "status": "completed"
    },
    "tags": []
   },
   "outputs": [],
   "source": [
    "from sklearn.model_selection import train_test_split\n",
    "\n",
    "X_train, X_test, y_train, y_test = train_test_split(X, \n",
    "                                                    y, \n",
    "                                                    test_size=0.30,\n",
    "                                                    stratify=y,\n",
    "                                                    shuffle=True, random_state=0)\n",
    "\n",
    "X_train = pd.DataFrame(preprocessor.fit_transform(X_train))\n",
    "X_test = pd.DataFrame(preprocessor.transform(X_test))\n",
    "\n",
    "y_train = pd.DataFrame(label_encoder.fit_transform(y_train))\n",
    "y_test = pd.DataFrame(label_encoder.transform(y_test))"
   ]
  },
  {
   "cell_type": "markdown",
   "id": "8505c429",
   "metadata": {
    "papermill": {
     "duration": 0.032351,
     "end_time": "2022-01-10T19:41:34.484884",
     "exception": false,
     "start_time": "2022-01-10T19:41:34.452533",
     "status": "completed"
    },
    "tags": []
   },
   "source": [
    "# Treinamento e Avaliação da rede neural"
   ]
  },
  {
   "cell_type": "markdown",
   "id": "de159796",
   "metadata": {
    "papermill": {
     "duration": 0.031519,
     "end_time": "2022-01-10T19:41:34.546873",
     "exception": false,
     "start_time": "2022-01-10T19:41:34.515354",
     "status": "completed"
    },
    "tags": []
   },
   "source": [
    "**1. Primeiramente deve-se criar a arquitetura da rede neural, ela terá duas camadas escondidas, sendo cada uma com uma saída de dimensão 256, entre elas serão utilizados Batch normalization e Dropout. Como funções de ativação serão usados “relu” para as camadas escondidas e o “softmax” na camada de saída, esta função serve para que o modelo realize predições na forma de classificação não binária, ou seja, que seja capaz de prever mais de duas classes.**"
   ]
  },
  {
   "cell_type": "code",
   "execution_count": 17,
   "id": "b100bfe5",
   "metadata": {
    "execution": {
     "iopub.execute_input": "2022-01-10T19:41:34.620560Z",
     "iopub.status.busy": "2022-01-10T19:41:34.619787Z",
     "iopub.status.idle": "2022-01-10T19:41:41.968316Z",
     "shell.execute_reply": "2022-01-10T19:41:41.966377Z",
     "shell.execute_reply.started": "2022-01-10T19:31:03.101876Z"
    },
    "papermill": {
     "duration": 7.388603,
     "end_time": "2022-01-10T19:41:41.968536",
     "exception": false,
     "start_time": "2022-01-10T19:41:34.579933",
     "status": "completed"
    },
    "tags": []
   },
   "outputs": [
    {
     "name": "stderr",
     "output_type": "stream",
     "text": [
      "\n",
      "User settings:\n",
      "\n",
      "   KMP_AFFINITY=granularity=fine,verbose,compact,1,0\n",
      "   KMP_BLOCKTIME=0\n",
      "   KMP_DUPLICATE_LIB_OK=True\n",
      "   KMP_INIT_AT_FORK=FALSE\n",
      "   KMP_SETTINGS=1\n",
      "   KMP_WARNINGS=0\n",
      "\n",
      "Effective settings:\n",
      "\n",
      "   KMP_ABORT_DELAY=0\n",
      "   KMP_ADAPTIVE_LOCK_PROPS='1,1024'\n",
      "   KMP_ALIGN_ALLOC=64\n",
      "   KMP_ALL_THREADPRIVATE=128\n",
      "   KMP_ATOMIC_MODE=2\n",
      "   KMP_BLOCKTIME=0\n",
      "   KMP_CPUINFO_FILE: value is not defined\n",
      "   KMP_DETERMINISTIC_REDUCTION=false\n",
      "   KMP_DEVICE_THREAD_LIMIT=2147483647\n",
      "   KMP_DISP_NUM_BUFFERS=7\n",
      "   KMP_DUPLICATE_LIB_OK=true\n",
      "   KMP_ENABLE_TASK_THROTTLING=true\n",
      "   KMP_FORCE_REDUCTION: value is not defined\n",
      "   KMP_FOREIGN_THREADS_THREADPRIVATE=true\n",
      "   KMP_FORKJOIN_BARRIER='2,2'\n",
      "   KMP_FORKJOIN_BARRIER_PATTERN='hyper,hyper'\n",
      "   KMP_GTID_MODE=3\n",
      "   KMP_HANDLE_SIGNALS=false\n",
      "   KMP_HOT_TEAMS_MAX_LEVEL=1\n",
      "   KMP_HOT_TEAMS_MODE=0\n",
      "   KMP_INIT_AT_FORK=true\n",
      "   KMP_LIBRARY=throughput\n",
      "   KMP_LOCK_KIND=queuing\n",
      "   KMP_MALLOC_POOL_INCR=1M\n",
      "   KMP_NUM_LOCKS_IN_BLOCK=1\n",
      "   KMP_PLAIN_BARRIER='2,2'\n",
      "   KMP_PLAIN_BARRIER_PATTERN='hyper,hyper'\n",
      "   KMP_REDUCTION_BARRIER='1,1'\n",
      "   KMP_REDUCTION_BARRIER_PATTERN='hyper,hyper'\n",
      "   KMP_SCHEDULE='static,balanced;guided,iterative'\n",
      "   KMP_SETTINGS=true\n",
      "   KMP_SPIN_BACKOFF_PARAMS='4096,100'\n",
      "   KMP_STACKOFFSET=64\n",
      "   KMP_STACKPAD=0\n",
      "   KMP_STACKSIZE=8M\n",
      "   KMP_STORAGE_MAP=false\n",
      "   KMP_TASKING=2\n",
      "   KMP_TASKLOOP_MIN_TASKS=0\n",
      "   KMP_TASK_STEALING_CONSTRAINT=1\n",
      "   KMP_TEAMS_THREAD_LIMIT=4\n",
      "   KMP_TOPOLOGY_METHOD=all\n",
      "   KMP_USE_YIELD=1\n",
      "   KMP_VERSION=false\n",
      "   KMP_WARNINGS=false\n",
      "   OMP_AFFINITY_FORMAT='OMP: pid %P tid %i thread %n bound to OS proc set {%A}'\n",
      "   OMP_ALLOCATOR=omp_default_mem_alloc\n",
      "   OMP_CANCELLATION=false\n",
      "   OMP_DEFAULT_DEVICE=0\n",
      "   OMP_DISPLAY_AFFINITY=false\n",
      "   OMP_DISPLAY_ENV=false\n",
      "   OMP_DYNAMIC=false\n",
      "   OMP_MAX_ACTIVE_LEVELS=1\n",
      "   OMP_MAX_TASK_PRIORITY=0\n",
      "   OMP_NESTED: deprecated; max-active-levels-var=1\n",
      "   OMP_NUM_THREADS: value is not defined\n",
      "   OMP_PLACES: value is not defined\n",
      "   OMP_PROC_BIND='intel'\n",
      "   OMP_SCHEDULE='static'\n",
      "   OMP_STACKSIZE=8M\n",
      "   OMP_TARGET_OFFLOAD=DEFAULT\n",
      "   OMP_THREAD_LIMIT=2147483647\n",
      "   OMP_WAIT_POLICY=PASSIVE\n",
      "   KMP_AFFINITY='verbose,warnings,respect,granularity=fine,compact,1,0'\n",
      "\n",
      "2022-01-10 19:41:41.840517: I tensorflow/core/common_runtime/process_util.cc:146] Creating new thread pool with default inter op setting: 2. Tune using inter_op_parallelism_threads for best performance.\n"
     ]
    }
   ],
   "source": [
    "from tensorflow import keras\n",
    "from tensorflow.keras import layers\n",
    "\n",
    "input_shape = [X_train.shape[1]]\n",
    "\n",
    "model = keras.Sequential([\n",
    "    layers.BatchNormalization(input_shape=input_shape),\n",
    "    layers.Dense(256, activation='relu'),\n",
    "    layers.BatchNormalization(),\n",
    "    layers.Dropout(rate=0.3),\n",
    "    layers.Dense(256, activation='relu'),  \n",
    "    layers.Dense(214, activation='softmax'),    # y_test.nunique()\n",
    "])"
   ]
  },
  {
   "cell_type": "code",
   "execution_count": 18,
   "id": "745d0607",
   "metadata": {
    "execution": {
     "iopub.execute_input": "2022-01-10T19:41:42.038153Z",
     "iopub.status.busy": "2022-01-10T19:41:42.037074Z",
     "iopub.status.idle": "2022-01-10T19:41:42.159873Z",
     "shell.execute_reply": "2022-01-10T19:41:42.159310Z",
     "shell.execute_reply.started": "2022-01-10T19:31:23.312222Z"
    },
    "papermill": {
     "duration": 0.158082,
     "end_time": "2022-01-10T19:41:42.160072",
     "exception": false,
     "start_time": "2022-01-10T19:41:42.001990",
     "status": "completed"
    },
    "tags": []
   },
   "outputs": [
    {
     "data": {
      "text/plain": [
       "(28935, 214)"
      ]
     },
     "execution_count": 18,
     "metadata": {},
     "output_type": "execute_result"
    }
   ],
   "source": [
    "from tensorflow.keras.utils import to_categorical\n",
    "\n",
    "y_train = to_categorical(y_train, num_classes=None, dtype='float64')\n",
    "y_test = to_categorical(y_test, num_classes=None, dtype='float64')\n",
    "y_test.shape"
   ]
  },
  {
   "cell_type": "markdown",
   "id": "ea8bfcd5",
   "metadata": {
    "papermill": {
     "duration": 0.033571,
     "end_time": "2022-01-10T19:41:42.227270",
     "exception": false,
     "start_time": "2022-01-10T19:41:42.193699",
     "status": "completed"
    },
    "tags": []
   },
   "source": [
    "**2. Configurar o otimizador, a função de perda que será utilizada e a métrica para avaliação do modelo**"
   ]
  },
  {
   "cell_type": "code",
   "execution_count": 19,
   "id": "e847db1d",
   "metadata": {
    "execution": {
     "iopub.execute_input": "2022-01-10T19:41:42.297573Z",
     "iopub.status.busy": "2022-01-10T19:41:42.296717Z",
     "iopub.status.idle": "2022-01-10T19:41:42.308485Z",
     "shell.execute_reply": "2022-01-10T19:41:42.309209Z",
     "shell.execute_reply.started": "2022-01-10T19:32:34.365760Z"
    },
    "papermill": {
     "duration": 0.050705,
     "end_time": "2022-01-10T19:41:42.309410",
     "exception": false,
     "start_time": "2022-01-10T19:41:42.258705",
     "status": "completed"
    },
    "tags": []
   },
   "outputs": [],
   "source": [
    "model.compile(\n",
    "    optimizer='adam',\n",
    "    loss='categorical_crossentropy',\n",
    "    metrics=['categorical_accuracy'],\n",
    ")"
   ]
  },
  {
   "cell_type": "markdown",
   "id": "829aeaf4",
   "metadata": {
    "papermill": {
     "duration": 0.032836,
     "end_time": "2022-01-10T19:41:42.376569",
     "exception": false,
     "start_time": "2022-01-10T19:41:42.343733",
     "status": "completed"
    },
    "tags": []
   },
   "source": [
    "**3. Por fim, será realizado o treinamento do modelo e plotagem dos resultados das avaliações, será utilizado o early stopping para evitar o overfitting. Os hiperparâmetros que serão utilizados, como o número de épocas e tamanho de cada batch durante o treinamento do modelo podem ser alterados pelo aluno para teste e possível aprimoramento.**"
   ]
  },
  {
   "cell_type": "code",
   "execution_count": 20,
   "id": "ee599e8b",
   "metadata": {
    "execution": {
     "iopub.execute_input": "2022-01-10T19:41:42.444506Z",
     "iopub.status.busy": "2022-01-10T19:41:42.443758Z",
     "iopub.status.idle": "2022-01-10T19:43:48.045990Z",
     "shell.execute_reply": "2022-01-10T19:43:48.046479Z",
     "shell.execute_reply.started": "2022-01-10T19:34:56.829687Z"
    },
    "papermill": {
     "duration": 125.638588,
     "end_time": "2022-01-10T19:43:48.046704",
     "exception": false,
     "start_time": "2022-01-10T19:41:42.408116",
     "status": "completed"
    },
    "tags": []
   },
   "outputs": [
    {
     "name": "stderr",
     "output_type": "stream",
     "text": [
      "2022-01-10 19:41:42.642411: I tensorflow/compiler/mlir/mlir_graph_optimization_pass.cc:185] None of the MLIR Optimization Passes are enabled (registered 2)\n"
     ]
    },
    {
     "name": "stdout",
     "output_type": "stream",
     "text": [
      "Epoch 1/100\n",
      "23/23 [==============================] - 3s 65ms/step - loss: 3.8760 - categorical_accuracy: 0.1859 - val_loss: 73.6196 - val_categorical_accuracy: 0.0279\n",
      "Epoch 2/100\n",
      "23/23 [==============================] - 1s 53ms/step - loss: 2.9785 - categorical_accuracy: 0.2571 - val_loss: 62.2296 - val_categorical_accuracy: 0.0279\n",
      "Epoch 3/100\n",
      "23/23 [==============================] - 1s 52ms/step - loss: 2.8196 - categorical_accuracy: 0.2767 - val_loss: 43.0101 - val_categorical_accuracy: 0.0279\n",
      "Epoch 4/100\n",
      "23/23 [==============================] - 1s 52ms/step - loss: 2.7243 - categorical_accuracy: 0.2850 - val_loss: 39.0796 - val_categorical_accuracy: 0.0024\n",
      "Epoch 5/100\n",
      "23/23 [==============================] - 1s 54ms/step - loss: 2.6488 - categorical_accuracy: 0.2915 - val_loss: 40.6806 - val_categorical_accuracy: 0.0022\n",
      "Epoch 6/100\n",
      "23/23 [==============================] - 1s 52ms/step - loss: 2.5795 - categorical_accuracy: 0.2982 - val_loss: 43.7990 - val_categorical_accuracy: 0.0022\n",
      "Epoch 7/100\n",
      "23/23 [==============================] - 1s 53ms/step - loss: 2.5175 - categorical_accuracy: 0.3042 - val_loss: 39.8997 - val_categorical_accuracy: 0.0022\n",
      "Epoch 8/100\n",
      "23/23 [==============================] - 1s 54ms/step - loss: 2.4601 - categorical_accuracy: 0.3115 - val_loss: 36.7621 - val_categorical_accuracy: 0.0023\n",
      "Epoch 9/100\n",
      "23/23 [==============================] - 1s 55ms/step - loss: 2.4134 - categorical_accuracy: 0.3177 - val_loss: 33.3693 - val_categorical_accuracy: 0.0024\n",
      "Epoch 10/100\n",
      "23/23 [==============================] - 1s 53ms/step - loss: 2.3703 - categorical_accuracy: 0.3232 - val_loss: 28.8978 - val_categorical_accuracy: 6.5664e-04\n",
      "Epoch 11/100\n",
      "23/23 [==============================] - 1s 51ms/step - loss: 2.3292 - categorical_accuracy: 0.3283 - val_loss: 27.9040 - val_categorical_accuracy: 0.0110\n",
      "Epoch 12/100\n",
      "23/23 [==============================] - 1s 51ms/step - loss: 2.2944 - categorical_accuracy: 0.3329 - val_loss: 23.0837 - val_categorical_accuracy: 0.0108\n",
      "Epoch 13/100\n",
      "23/23 [==============================] - 2s 79ms/step - loss: 2.2560 - categorical_accuracy: 0.3395 - val_loss: 21.4701 - val_categorical_accuracy: 0.0113\n",
      "Epoch 14/100\n",
      "23/23 [==============================] - 1s 52ms/step - loss: 2.2216 - categorical_accuracy: 0.3448 - val_loss: 19.2210 - val_categorical_accuracy: 0.0114\n",
      "Epoch 15/100\n",
      "23/23 [==============================] - 1s 51ms/step - loss: 2.1882 - categorical_accuracy: 0.3505 - val_loss: 16.3697 - val_categorical_accuracy: 0.0123\n",
      "Epoch 16/100\n",
      "23/23 [==============================] - 1s 52ms/step - loss: 2.1609 - categorical_accuracy: 0.3560 - val_loss: 15.0876 - val_categorical_accuracy: 0.0114\n",
      "Epoch 17/100\n",
      "23/23 [==============================] - 1s 51ms/step - loss: 2.1312 - categorical_accuracy: 0.3603 - val_loss: 12.8123 - val_categorical_accuracy: 0.0152\n",
      "Epoch 18/100\n",
      "23/23 [==============================] - 1s 54ms/step - loss: 2.0995 - categorical_accuracy: 0.3673 - val_loss: 10.3772 - val_categorical_accuracy: 0.0344\n",
      "Epoch 19/100\n",
      "23/23 [==============================] - 1s 52ms/step - loss: 2.0772 - categorical_accuracy: 0.3737 - val_loss: 8.5550 - val_categorical_accuracy: 0.0693\n",
      "Epoch 20/100\n",
      "23/23 [==============================] - 1s 53ms/step - loss: 2.0541 - categorical_accuracy: 0.3763 - val_loss: 7.3931 - val_categorical_accuracy: 0.0965\n",
      "Epoch 21/100\n",
      "23/23 [==============================] - 1s 54ms/step - loss: 2.0323 - categorical_accuracy: 0.3805 - val_loss: 6.5145 - val_categorical_accuracy: 0.0982\n",
      "Epoch 22/100\n",
      "23/23 [==============================] - 1s 53ms/step - loss: 2.0085 - categorical_accuracy: 0.3863 - val_loss: 5.4507 - val_categorical_accuracy: 0.1307\n",
      "Epoch 23/100\n",
      "23/23 [==============================] - 1s 54ms/step - loss: 1.9885 - categorical_accuracy: 0.3903 - val_loss: 4.6536 - val_categorical_accuracy: 0.1837\n",
      "Epoch 24/100\n",
      "23/23 [==============================] - 1s 55ms/step - loss: 1.9661 - categorical_accuracy: 0.3939 - val_loss: 3.9276 - val_categorical_accuracy: 0.2017\n",
      "Epoch 25/100\n",
      "23/23 [==============================] - 1s 54ms/step - loss: 1.9487 - categorical_accuracy: 0.3985 - val_loss: 3.4395 - val_categorical_accuracy: 0.2271\n",
      "Epoch 26/100\n",
      "23/23 [==============================] - 1s 52ms/step - loss: 1.9297 - categorical_accuracy: 0.4021 - val_loss: 3.0365 - val_categorical_accuracy: 0.2367\n",
      "Epoch 27/100\n",
      "23/23 [==============================] - 1s 53ms/step - loss: 1.9080 - categorical_accuracy: 0.4069 - val_loss: 2.6595 - val_categorical_accuracy: 0.2817\n",
      "Epoch 28/100\n",
      "23/23 [==============================] - 1s 51ms/step - loss: 1.8925 - categorical_accuracy: 0.4099 - val_loss: 2.4213 - val_categorical_accuracy: 0.3112\n",
      "Epoch 29/100\n",
      "23/23 [==============================] - 1s 51ms/step - loss: 1.8771 - categorical_accuracy: 0.4142 - val_loss: 2.2307 - val_categorical_accuracy: 0.3363\n",
      "Epoch 30/100\n",
      "23/23 [==============================] - 1s 51ms/step - loss: 1.8574 - categorical_accuracy: 0.4188 - val_loss: 2.0805 - val_categorical_accuracy: 0.3669\n",
      "Epoch 31/100\n",
      "23/23 [==============================] - 1s 50ms/step - loss: 1.8462 - categorical_accuracy: 0.4205 - val_loss: 1.9942 - val_categorical_accuracy: 0.3831\n",
      "Epoch 32/100\n",
      "23/23 [==============================] - 1s 50ms/step - loss: 1.8271 - categorical_accuracy: 0.4272 - val_loss: 1.9113 - val_categorical_accuracy: 0.4035\n",
      "Epoch 33/100\n",
      "23/23 [==============================] - 1s 51ms/step - loss: 1.8100 - categorical_accuracy: 0.4301 - val_loss: 1.8514 - val_categorical_accuracy: 0.4253\n",
      "Epoch 34/100\n",
      "23/23 [==============================] - 1s 50ms/step - loss: 1.7986 - categorical_accuracy: 0.4322 - val_loss: 1.8163 - val_categorical_accuracy: 0.4333\n",
      "Epoch 35/100\n",
      "23/23 [==============================] - 1s 50ms/step - loss: 1.7855 - categorical_accuracy: 0.4349 - val_loss: 1.7792 - val_categorical_accuracy: 0.4456\n",
      "Epoch 36/100\n",
      "23/23 [==============================] - 1s 53ms/step - loss: 1.7695 - categorical_accuracy: 0.4398 - val_loss: 1.7584 - val_categorical_accuracy: 0.4550\n",
      "Epoch 37/100\n",
      "23/23 [==============================] - 1s 51ms/step - loss: 1.7610 - categorical_accuracy: 0.4408 - val_loss: 1.7347 - val_categorical_accuracy: 0.4589\n",
      "Epoch 38/100\n",
      "23/23 [==============================] - 1s 53ms/step - loss: 1.7461 - categorical_accuracy: 0.4446 - val_loss: 1.7144 - val_categorical_accuracy: 0.4628\n",
      "Epoch 39/100\n",
      "23/23 [==============================] - 1s 62ms/step - loss: 1.7324 - categorical_accuracy: 0.4501 - val_loss: 1.7028 - val_categorical_accuracy: 0.4639\n",
      "Epoch 40/100\n",
      "23/23 [==============================] - 1s 64ms/step - loss: 1.7216 - categorical_accuracy: 0.4515 - val_loss: 1.6885 - val_categorical_accuracy: 0.4705\n",
      "Epoch 41/100\n",
      "23/23 [==============================] - 1s 51ms/step - loss: 1.7137 - categorical_accuracy: 0.4550 - val_loss: 1.6828 - val_categorical_accuracy: 0.4727\n",
      "Epoch 42/100\n",
      "23/23 [==============================] - 1s 52ms/step - loss: 1.6958 - categorical_accuracy: 0.4582 - val_loss: 1.6626 - val_categorical_accuracy: 0.4780\n",
      "Epoch 43/100\n",
      "23/23 [==============================] - 1s 51ms/step - loss: 1.6915 - categorical_accuracy: 0.4582 - val_loss: 1.6498 - val_categorical_accuracy: 0.4822\n",
      "Epoch 44/100\n",
      "23/23 [==============================] - 1s 52ms/step - loss: 1.6750 - categorical_accuracy: 0.4637 - val_loss: 1.6413 - val_categorical_accuracy: 0.4833\n",
      "Epoch 45/100\n",
      "23/23 [==============================] - 1s 55ms/step - loss: 1.6694 - categorical_accuracy: 0.4643 - val_loss: 1.6336 - val_categorical_accuracy: 0.4841\n",
      "Epoch 46/100\n",
      "23/23 [==============================] - 1s 54ms/step - loss: 1.6566 - categorical_accuracy: 0.4677 - val_loss: 1.6191 - val_categorical_accuracy: 0.4893\n",
      "Epoch 47/100\n",
      "23/23 [==============================] - 1s 52ms/step - loss: 1.6437 - categorical_accuracy: 0.4707 - val_loss: 1.6101 - val_categorical_accuracy: 0.4902\n",
      "Epoch 48/100\n",
      "23/23 [==============================] - 1s 52ms/step - loss: 1.6343 - categorical_accuracy: 0.4748 - val_loss: 1.6026 - val_categorical_accuracy: 0.4929\n",
      "Epoch 49/100\n",
      "23/23 [==============================] - 1s 56ms/step - loss: 1.6271 - categorical_accuracy: 0.4774 - val_loss: 1.5914 - val_categorical_accuracy: 0.4982\n",
      "Epoch 50/100\n",
      "23/23 [==============================] - 1s 51ms/step - loss: 1.6225 - categorical_accuracy: 0.4768 - val_loss: 1.5800 - val_categorical_accuracy: 0.5013\n",
      "Epoch 51/100\n",
      "23/23 [==============================] - 1s 52ms/step - loss: 1.6124 - categorical_accuracy: 0.4795 - val_loss: 1.5742 - val_categorical_accuracy: 0.4998\n",
      "Epoch 52/100\n",
      "23/23 [==============================] - 1s 52ms/step - loss: 1.6064 - categorical_accuracy: 0.4800 - val_loss: 1.5626 - val_categorical_accuracy: 0.5051\n",
      "Epoch 53/100\n",
      "23/23 [==============================] - 1s 52ms/step - loss: 1.5911 - categorical_accuracy: 0.4854 - val_loss: 1.5507 - val_categorical_accuracy: 0.5038\n",
      "Epoch 54/100\n",
      "23/23 [==============================] - 1s 56ms/step - loss: 1.5872 - categorical_accuracy: 0.4855 - val_loss: 1.5441 - val_categorical_accuracy: 0.5125\n",
      "Epoch 55/100\n",
      "23/23 [==============================] - 1s 53ms/step - loss: 1.5765 - categorical_accuracy: 0.4907 - val_loss: 1.5365 - val_categorical_accuracy: 0.5105\n",
      "Epoch 56/100\n",
      "23/23 [==============================] - 1s 53ms/step - loss: 1.5699 - categorical_accuracy: 0.4910 - val_loss: 1.5279 - val_categorical_accuracy: 0.5124\n",
      "Epoch 57/100\n",
      "23/23 [==============================] - 1s 52ms/step - loss: 1.5593 - categorical_accuracy: 0.4926 - val_loss: 1.5184 - val_categorical_accuracy: 0.5178\n",
      "Epoch 58/100\n",
      "23/23 [==============================] - 1s 51ms/step - loss: 1.5561 - categorical_accuracy: 0.4944 - val_loss: 1.5167 - val_categorical_accuracy: 0.5167\n",
      "Epoch 59/100\n",
      "23/23 [==============================] - 1s 51ms/step - loss: 1.5497 - categorical_accuracy: 0.4951 - val_loss: 1.5076 - val_categorical_accuracy: 0.5199\n",
      "Epoch 60/100\n",
      "23/23 [==============================] - 1s 53ms/step - loss: 1.5461 - categorical_accuracy: 0.4958 - val_loss: 1.5018 - val_categorical_accuracy: 0.5218\n",
      "Epoch 61/100\n",
      "23/23 [==============================] - 1s 53ms/step - loss: 1.5363 - categorical_accuracy: 0.4991 - val_loss: 1.4953 - val_categorical_accuracy: 0.5208\n",
      "Epoch 62/100\n",
      "23/23 [==============================] - 1s 54ms/step - loss: 1.5269 - categorical_accuracy: 0.5037 - val_loss: 1.4888 - val_categorical_accuracy: 0.5225\n",
      "Epoch 63/100\n",
      "23/23 [==============================] - 1s 56ms/step - loss: 1.5246 - categorical_accuracy: 0.5018 - val_loss: 1.4771 - val_categorical_accuracy: 0.5265\n",
      "Epoch 64/100\n",
      "23/23 [==============================] - 1s 54ms/step - loss: 1.5123 - categorical_accuracy: 0.5060 - val_loss: 1.4734 - val_categorical_accuracy: 0.5293\n",
      "Epoch 65/100\n",
      "23/23 [==============================] - 1s 58ms/step - loss: 1.5065 - categorical_accuracy: 0.5098 - val_loss: 1.4653 - val_categorical_accuracy: 0.5304\n",
      "Epoch 66/100\n",
      "23/23 [==============================] - 2s 74ms/step - loss: 1.5028 - categorical_accuracy: 0.5091 - val_loss: 1.4611 - val_categorical_accuracy: 0.5323\n",
      "Epoch 67/100\n",
      "23/23 [==============================] - 1s 52ms/step - loss: 1.4975 - categorical_accuracy: 0.5106 - val_loss: 1.4574 - val_categorical_accuracy: 0.5306\n",
      "Epoch 68/100\n",
      "23/23 [==============================] - 1s 57ms/step - loss: 1.4880 - categorical_accuracy: 0.5124 - val_loss: 1.4418 - val_categorical_accuracy: 0.5371\n",
      "Epoch 69/100\n",
      "23/23 [==============================] - 1s 56ms/step - loss: 1.4831 - categorical_accuracy: 0.5155 - val_loss: 1.4462 - val_categorical_accuracy: 0.5344\n",
      "Epoch 70/100\n",
      "23/23 [==============================] - 1s 56ms/step - loss: 1.4789 - categorical_accuracy: 0.5177 - val_loss: 1.4301 - val_categorical_accuracy: 0.5412\n",
      "Epoch 71/100\n",
      "23/23 [==============================] - 1s 54ms/step - loss: 1.4718 - categorical_accuracy: 0.5188 - val_loss: 1.4255 - val_categorical_accuracy: 0.5414\n",
      "Epoch 72/100\n",
      "23/23 [==============================] - 1s 58ms/step - loss: 1.4680 - categorical_accuracy: 0.5192 - val_loss: 1.4230 - val_categorical_accuracy: 0.5422\n",
      "Epoch 73/100\n",
      "23/23 [==============================] - 1s 57ms/step - loss: 1.4587 - categorical_accuracy: 0.5202 - val_loss: 1.4178 - val_categorical_accuracy: 0.5460\n",
      "Epoch 74/100\n",
      "23/23 [==============================] - 1s 53ms/step - loss: 1.4583 - categorical_accuracy: 0.5212 - val_loss: 1.4163 - val_categorical_accuracy: 0.5450\n",
      "Epoch 75/100\n",
      "23/23 [==============================] - 1s 52ms/step - loss: 1.4515 - categorical_accuracy: 0.5219 - val_loss: 1.4076 - val_categorical_accuracy: 0.5469\n",
      "Epoch 76/100\n",
      "23/23 [==============================] - 1s 51ms/step - loss: 1.4463 - categorical_accuracy: 0.5239 - val_loss: 1.3969 - val_categorical_accuracy: 0.5517\n",
      "Epoch 77/100\n",
      "23/23 [==============================] - 1s 51ms/step - loss: 1.4380 - categorical_accuracy: 0.5269 - val_loss: 1.3891 - val_categorical_accuracy: 0.5534\n",
      "Epoch 78/100\n",
      "23/23 [==============================] - 1s 52ms/step - loss: 1.4373 - categorical_accuracy: 0.5283 - val_loss: 1.3900 - val_categorical_accuracy: 0.5529\n",
      "Epoch 79/100\n",
      "23/23 [==============================] - 1s 51ms/step - loss: 1.4362 - categorical_accuracy: 0.5275 - val_loss: 1.3824 - val_categorical_accuracy: 0.5530\n",
      "Epoch 80/100\n",
      "23/23 [==============================] - 1s 57ms/step - loss: 1.4261 - categorical_accuracy: 0.5325 - val_loss: 1.3804 - val_categorical_accuracy: 0.5544\n",
      "Epoch 81/100\n",
      "23/23 [==============================] - 1s 57ms/step - loss: 1.4237 - categorical_accuracy: 0.5302 - val_loss: 1.3761 - val_categorical_accuracy: 0.5602\n",
      "Epoch 82/100\n",
      "23/23 [==============================] - 1s 53ms/step - loss: 1.4239 - categorical_accuracy: 0.5330 - val_loss: 1.3698 - val_categorical_accuracy: 0.5576\n",
      "Epoch 83/100\n",
      "23/23 [==============================] - 1s 53ms/step - loss: 1.4141 - categorical_accuracy: 0.5318 - val_loss: 1.3620 - val_categorical_accuracy: 0.5603\n",
      "Epoch 84/100\n",
      "23/23 [==============================] - 1s 52ms/step - loss: 1.4089 - categorical_accuracy: 0.5353 - val_loss: 1.3597 - val_categorical_accuracy: 0.5602\n",
      "Epoch 85/100\n",
      "23/23 [==============================] - 1s 53ms/step - loss: 1.3997 - categorical_accuracy: 0.5387 - val_loss: 1.3615 - val_categorical_accuracy: 0.5586\n",
      "Epoch 86/100\n",
      "23/23 [==============================] - 1s 51ms/step - loss: 1.3971 - categorical_accuracy: 0.5377 - val_loss: 1.3487 - val_categorical_accuracy: 0.5647\n",
      "Epoch 87/100\n",
      "23/23 [==============================] - 1s 52ms/step - loss: 1.3969 - categorical_accuracy: 0.5405 - val_loss: 1.3453 - val_categorical_accuracy: 0.5627\n",
      "Epoch 88/100\n",
      "23/23 [==============================] - 1s 51ms/step - loss: 1.3859 - categorical_accuracy: 0.5420 - val_loss: 1.3429 - val_categorical_accuracy: 0.5712\n",
      "Epoch 89/100\n",
      "23/23 [==============================] - 1s 56ms/step - loss: 1.3837 - categorical_accuracy: 0.5409 - val_loss: 1.3409 - val_categorical_accuracy: 0.5657\n",
      "Epoch 90/100\n",
      "23/23 [==============================] - 1s 52ms/step - loss: 1.3823 - categorical_accuracy: 0.5442 - val_loss: 1.3338 - val_categorical_accuracy: 0.5685\n",
      "Epoch 91/100\n",
      "23/23 [==============================] - 2s 79ms/step - loss: 1.3736 - categorical_accuracy: 0.5472 - val_loss: 1.3270 - val_categorical_accuracy: 0.5736\n",
      "Epoch 92/100\n",
      "23/23 [==============================] - 1s 51ms/step - loss: 1.3729 - categorical_accuracy: 0.5475 - val_loss: 1.3259 - val_categorical_accuracy: 0.5726\n",
      "Epoch 93/100\n",
      "23/23 [==============================] - 1s 53ms/step - loss: 1.3779 - categorical_accuracy: 0.5436 - val_loss: 1.3223 - val_categorical_accuracy: 0.5708\n",
      "Epoch 94/100\n",
      "23/23 [==============================] - 1s 51ms/step - loss: 1.3655 - categorical_accuracy: 0.5479 - val_loss: 1.3128 - val_categorical_accuracy: 0.5747\n",
      "Epoch 95/100\n",
      "23/23 [==============================] - 1s 52ms/step - loss: 1.3622 - categorical_accuracy: 0.5486 - val_loss: 1.3140 - val_categorical_accuracy: 0.5766\n",
      "Epoch 96/100\n",
      "23/23 [==============================] - 1s 51ms/step - loss: 1.3585 - categorical_accuracy: 0.5489 - val_loss: 1.3039 - val_categorical_accuracy: 0.5768\n",
      "Epoch 97/100\n",
      "23/23 [==============================] - 1s 53ms/step - loss: 1.3575 - categorical_accuracy: 0.5513 - val_loss: 1.3137 - val_categorical_accuracy: 0.5735\n",
      "Epoch 98/100\n",
      "23/23 [==============================] - 1s 56ms/step - loss: 1.3564 - categorical_accuracy: 0.5505 - val_loss: 1.3029 - val_categorical_accuracy: 0.5766\n",
      "Epoch 99/100\n",
      "23/23 [==============================] - 1s 53ms/step - loss: 1.3513 - categorical_accuracy: 0.5504 - val_loss: 1.2973 - val_categorical_accuracy: 0.5798\n",
      "Epoch 100/100\n",
      "23/23 [==============================] - 1s 50ms/step - loss: 1.3486 - categorical_accuracy: 0.5497 - val_loss: 1.2914 - val_categorical_accuracy: 0.5814\n"
     ]
    },
    {
     "data": {
      "text/plain": [
       "<AxesSubplot:title={'center':'Accuracy'}>"
      ]
     },
     "execution_count": 20,
     "metadata": {},
     "output_type": "execute_result"
    },
    {
     "data": {
      "image/png": "[encoded data removed]",
      "text/plain": [
       "<Figure size 432x288 with 1 Axes>"
      ]
     },
     "metadata": {
      "needs_background": "light"
     },
     "output_type": "display_data"
    },
    {
     "data": {
      "image/png": "[encoded data removed]",
      "text/plain": [
       "<Figure size 432x288 with 1 Axes>"
      ]
     },
     "metadata": {
      "needs_background": "light"
     },
     "output_type": "display_data"
    }
   ],
   "source": [
    "early_stopping = keras.callbacks.EarlyStopping(\n",
    "    patience=10,\n",
    "    min_delta=0.001,\n",
    "    restore_best_weights=True,\n",
    ")\n",
    "history = model.fit(\n",
    "    X_train, y_train,\n",
    "    validation_data=(X_test, y_test),\n",
    "    batch_size=3000,\n",
    "    epochs=100,\n",
    "    callbacks=[early_stopping],\n",
    ")\n",
    "\n",
    "history_df = pd.DataFrame(history.history)\n",
    "history_df.loc[:, ['loss', 'val_loss']].plot(title=\"Cross-entropy\")\n",
    "history_df.loc[:, ['categorical_accuracy', 'val_categorical_accuracy']].plot(title=\"Accuracy\")"
   ]
  },
  {
   "cell_type": "code",
   "execution_count": 21,
   "id": "cbea4ba7",
   "metadata": {
    "execution": {
     "iopub.execute_input": "2022-01-10T19:43:48.977853Z",
     "iopub.status.busy": "2022-01-10T19:43:48.977123Z",
     "iopub.status.idle": "2022-01-10T19:43:49.443023Z",
     "shell.execute_reply": "2022-01-10T19:43:49.442435Z",
     "shell.execute_reply.started": "2022-01-10T19:40:35.605553Z"
    },
    "papermill": {
     "duration": 0.933071,
     "end_time": "2022-01-10T19:43:49.443181",
     "exception": false,
     "start_time": "2022-01-10T19:43:48.510110",
     "status": "completed"
    },
    "tags": []
   },
   "outputs": [
    {
     "data": {
      "text/plain": [
       "<AxesSubplot:title={'center':'Accuracy'}>"
      ]
     },
     "execution_count": 21,
     "metadata": {},
     "output_type": "execute_result"
    },
    {
     "data": {
      "image/png": "[encoded data removed]",
      "text/plain": [
       "<Figure size 432x288 with 1 Axes>"
      ]
     },
     "metadata": {
      "needs_background": "light"
     },
     "output_type": "display_data"
    },
    {
     "data": {
      "image/png": "[encoded data removed]",
      "text/plain": [
       "<Figure size 432x288 with 1 Axes>"
      ]
     },
     "metadata": {
      "needs_background": "light"
     },
     "output_type": "display_data"
    }
   ],
   "source": [
    "history_df.loc[:, ['loss', 'val_loss']].plot(title=\"Cross-entropy\")\n",
    "history_df.loc[:, ['categorical_accuracy', 'val_categorical_accuracy']].plot(title=\"Accuracy\")"
   ]
  }
 ],
 "metadata": {
  "kernelspec": {
   "display_name": "Python 3",
   "language": "python",
   "name": "python3"
  },
  "language_info": {
   "codemirror_mode": {
    "name": "ipython",
    "version": 3
   },
   "file_extension": ".py",
   "mimetype": "text/x-python",
   "name": "python",
   "nbconvert_exporter": "python",
   "pygments_lexer": "ipython3",
   "version": "3.7.12"
  },
  "papermill": {
   "default_parameters": {},
   "duration": 159.099334,
   "end_time": "2022-01-10T19:43:52.596363",
   "environment_variables": {},
   "exception": null,
   "input_path": "__notebook__.ipynb",
   "output_path": "__notebook__.ipynb",
   "parameters": {},
   "start_time": "2022-01-10T19:41:13.497029",
   "version": "2.3.3"
  }
 },
 "nbformat": 4,
 "nbformat_minor": 5
}
