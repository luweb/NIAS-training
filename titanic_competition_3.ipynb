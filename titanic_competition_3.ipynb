{
 "cells": [
  {
   "cell_type": "code",
   "execution_count": 1,
   "id": "f3911e16",
   "metadata": {
    "_cell_guid": "b1076dfc-b9ad-4769-8c92-a6c4dae69d19",
    "_uuid": "8f2839f25d086af736a60e9eeb907d3b93b6e0e5",
    "execution": {
     "iopub.execute_input": "2022-01-08T01:33:47.128072Z",
     "iopub.status.busy": "2022-01-08T01:33:47.126257Z",
     "iopub.status.idle": "2022-01-08T01:33:48.264099Z",
     "shell.execute_reply": "2022-01-08T01:33:48.263312Z",
     "shell.execute_reply.started": "2022-01-08T01:17:21.986854Z"
    },
    "papermill": {
     "duration": 1.168171,
     "end_time": "2022-01-08T01:33:48.264276",
     "exception": false,
     "start_time": "2022-01-08T01:33:47.096105",
     "status": "completed"
    },
    "tags": []
   },
   "outputs": [],
   "source": [
    "import numpy as np #a. Numpy as np\n",
    "import pandas as pd #b. Pandas as pd\n",
    "import matplotlib.pyplot as plt #c. Matplotlib.pyplot\n",
    "import seaborn as sns #d. seaborne as sns\n",
    "%matplotlib inline\n",
    "# Set Matplotlib defaults\n",
    "plt.style.use(\"seaborn-whitegrid\")\n",
    "plt.rc(\"figure\", autolayout=True)\n",
    "plt.rc(\n",
    "    \"axes\",\n",
    "    labelweight=\"bold\",\n",
    "    labelsize=\"large\",\n",
    "    titleweight=\"bold\",\n",
    "    titlesize=14,\n",
    "    titlepad=10,\n",
    ")\n",
    "\n",
    "np.random.seed(0) #f. Configurar o random seed para 0 (np.random.seed(0))\n",
    "\n",
    "#Importar os arquivos “kaggle/input/titanic/test.csv” e “kaggle/input/titanic/train.csv”\n",
    "train_data = pd.read_csv('/kaggle/input/titanic/train.csv')\n",
    "test_data = pd.read_csv('/kaggle/input/titanic/test.csv')\n",
    "\n",
    "train_data.drop(['Cabin','Ticket'], axis=1, inplace=True)\n",
    "test_data.drop(['Cabin','Ticket'], axis=1, inplace=True)"
   ]
  },
  {
   "cell_type": "markdown",
   "id": "70855fe7",
   "metadata": {
    "papermill": {
     "duration": 0.022721,
     "end_time": "2022-01-08T01:33:48.311198",
     "exception": false,
     "start_time": "2022-01-08T01:33:48.288477",
     "status": "completed"
    },
    "tags": []
   },
   "source": [
    "# Pipelines"
   ]
  },
  {
   "cell_type": "markdown",
   "id": "930d1e2e",
   "metadata": {
    "papermill": {
     "duration": 0.022803,
     "end_time": "2022-01-08T01:33:48.356828",
     "exception": false,
     "start_time": "2022-01-08T01:33:48.334025",
     "status": "completed"
    },
    "tags": []
   },
   "source": [
    "**1. Deverá ser criada uma função que produz e avalia pipelines que utilizam diversas estratégias de imputing de valores nulos e encoding de variáveis categóricas.**"
   ]
  },
  {
   "cell_type": "code",
   "execution_count": 2,
   "id": "e76ba9af",
   "metadata": {
    "execution": {
     "iopub.execute_input": "2022-01-08T01:33:48.411650Z",
     "iopub.status.busy": "2022-01-08T01:33:48.410905Z",
     "iopub.status.idle": "2022-01-08T01:33:50.215407Z",
     "shell.execute_reply": "2022-01-08T01:33:50.213878Z",
     "shell.execute_reply.started": "2022-01-08T01:17:22.017284Z"
    },
    "papermill": {
     "duration": 1.836099,
     "end_time": "2022-01-08T01:33:50.215693",
     "exception": false,
     "start_time": "2022-01-08T01:33:48.379594",
     "status": "completed"
    },
    "tags": []
   },
   "outputs": [
    {
     "name": "stdout",
     "output_type": "stream",
     "text": [
      "0.8081099742640134\n"
     ]
    }
   ],
   "source": [
    "from sklearn.compose import ColumnTransformer\n",
    "from sklearn.pipeline import Pipeline\n",
    "from sklearn.impute import SimpleImputer\n",
    "from sklearn.preprocessing import OneHotEncoder\n",
    "from sklearn.ensemble import RandomForestClassifier\n",
    "from xgboost import XGBClassifier\n",
    "from sklearn.model_selection import cross_val_score\n",
    "\n",
    "\n",
    "X = train_data.copy()\n",
    "X.drop(['PassengerId','Name'], axis=1, inplace=True) # not important for training, but must be used for submitting results\n",
    "y = X.pop(\"Survived\")\n",
    "\n",
    "# Select categorical columns\n",
    "def categorical_cols(X):\n",
    "    return [cname for cname in X.columns if X[cname].dtype  == \"object\"]\n",
    "\n",
    "# Select numerical columns\n",
    "def numerical_cols(X):\n",
    "    return [cname for cname in X.columns if X[cname].dtype in ['int64', 'float64']]\n",
    "\n",
    "# Preprocessing for numerical data\n",
    "numerical_transformer = SimpleImputer(strategy='median')\n",
    "\n",
    "# Preprocessing for categorical data\n",
    "categorical_transformer = Pipeline(steps=[\n",
    "    ('imputer', SimpleImputer(strategy='most_frequent')),\n",
    "    ('onehot', OneHotEncoder(handle_unknown='ignore'))\n",
    "])\n",
    "\n",
    "# Bundle preprocessing for numerical and categorical data\n",
    "preprocessor = ColumnTransformer(\n",
    "    transformers=[\n",
    "    ('num', numerical_transformer, numerical_cols(X)),\n",
    "    ('cat', categorical_transformer, categorical_cols(X))\n",
    "])\n",
    "\n",
    "# Define model\n",
    "model = RandomForestClassifier()\n",
    "#model = XGBClassifier(n_estimators=1000, random_state=0, n_iter_no_change = 100, verbose=False)\n",
    "\n",
    "# Bundle preprocessing and modeling code in a pipeline\n",
    "my_pipeline = Pipeline(steps=[('preprocessor', preprocessor),\n",
    "                              ('model', model)\n",
    "                     ])\n",
    "\n",
    "scores = cross_val_score(my_pipeline, X, y,\n",
    "                              cv=5,\n",
    "                              scoring='accuracy')\n",
    "print(scores.mean())"
   ]
  },
  {
   "cell_type": "markdown",
   "id": "91f81a62",
   "metadata": {
    "papermill": {
     "duration": 0.02316,
     "end_time": "2022-01-08T01:33:50.263428",
     "exception": false,
     "start_time": "2022-01-08T01:33:50.240268",
     "status": "completed"
    },
    "tags": []
   },
   "source": [
    "# Feature Selection"
   ]
  },
  {
   "cell_type": "code",
   "execution_count": 3,
   "id": "7706f9a0",
   "metadata": {
    "execution": {
     "iopub.execute_input": "2022-01-08T01:33:50.319905Z",
     "iopub.status.busy": "2022-01-08T01:33:50.319214Z",
     "iopub.status.idle": "2022-01-08T01:33:50.361045Z",
     "shell.execute_reply": "2022-01-08T01:33:50.361537Z",
     "shell.execute_reply.started": "2022-01-08T01:17:23.421913Z"
    },
    "papermill": {
     "duration": 0.074849,
     "end_time": "2022-01-08T01:33:50.361702",
     "exception": false,
     "start_time": "2022-01-08T01:33:50.286853",
     "status": "completed"
    },
    "tags": []
   },
   "outputs": [
    {
     "data": {
      "text/html": [
       "<div>\n",
       "<style scoped>\n",
       "    .dataframe tbody tr th:only-of-type {\n",
       "        vertical-align: middle;\n",
       "    }\n",
       "\n",
       "    .dataframe tbody tr th {\n",
       "        vertical-align: top;\n",
       "    }\n",
       "\n",
       "    .dataframe thead th {\n",
       "        text-align: right;\n",
       "    }\n",
       "</style>\n",
       "<table border=\"1\" class=\"dataframe\">\n",
       "  <thead>\n",
       "    <tr style=\"text-align: right;\">\n",
       "      <th></th>\n",
       "      <th>Pclass</th>\n",
       "      <th>Age</th>\n",
       "      <th>SibSp</th>\n",
       "      <th>Parch</th>\n",
       "      <th>Fare</th>\n",
       "      <th>x0_female</th>\n",
       "      <th>x0_male</th>\n",
       "      <th>x1_C</th>\n",
       "      <th>x1_Q</th>\n",
       "      <th>x1_S</th>\n",
       "    </tr>\n",
       "  </thead>\n",
       "  <tbody>\n",
       "    <tr>\n",
       "      <th>0</th>\n",
       "      <td>3.0</td>\n",
       "      <td>22.0</td>\n",
       "      <td>1.0</td>\n",
       "      <td>0.0</td>\n",
       "      <td>7.2500</td>\n",
       "      <td>0.0</td>\n",
       "      <td>1.0</td>\n",
       "      <td>0.0</td>\n",
       "      <td>0.0</td>\n",
       "      <td>1.0</td>\n",
       "    </tr>\n",
       "    <tr>\n",
       "      <th>1</th>\n",
       "      <td>1.0</td>\n",
       "      <td>38.0</td>\n",
       "      <td>1.0</td>\n",
       "      <td>0.0</td>\n",
       "      <td>71.2833</td>\n",
       "      <td>1.0</td>\n",
       "      <td>0.0</td>\n",
       "      <td>1.0</td>\n",
       "      <td>0.0</td>\n",
       "      <td>0.0</td>\n",
       "    </tr>\n",
       "    <tr>\n",
       "      <th>2</th>\n",
       "      <td>3.0</td>\n",
       "      <td>26.0</td>\n",
       "      <td>0.0</td>\n",
       "      <td>0.0</td>\n",
       "      <td>7.9250</td>\n",
       "      <td>1.0</td>\n",
       "      <td>0.0</td>\n",
       "      <td>0.0</td>\n",
       "      <td>0.0</td>\n",
       "      <td>1.0</td>\n",
       "    </tr>\n",
       "    <tr>\n",
       "      <th>3</th>\n",
       "      <td>1.0</td>\n",
       "      <td>35.0</td>\n",
       "      <td>1.0</td>\n",
       "      <td>0.0</td>\n",
       "      <td>53.1000</td>\n",
       "      <td>1.0</td>\n",
       "      <td>0.0</td>\n",
       "      <td>0.0</td>\n",
       "      <td>0.0</td>\n",
       "      <td>1.0</td>\n",
       "    </tr>\n",
       "    <tr>\n",
       "      <th>4</th>\n",
       "      <td>3.0</td>\n",
       "      <td>35.0</td>\n",
       "      <td>0.0</td>\n",
       "      <td>0.0</td>\n",
       "      <td>8.0500</td>\n",
       "      <td>0.0</td>\n",
       "      <td>1.0</td>\n",
       "      <td>0.0</td>\n",
       "      <td>0.0</td>\n",
       "      <td>1.0</td>\n",
       "    </tr>\n",
       "    <tr>\n",
       "      <th>...</th>\n",
       "      <td>...</td>\n",
       "      <td>...</td>\n",
       "      <td>...</td>\n",
       "      <td>...</td>\n",
       "      <td>...</td>\n",
       "      <td>...</td>\n",
       "      <td>...</td>\n",
       "      <td>...</td>\n",
       "      <td>...</td>\n",
       "      <td>...</td>\n",
       "    </tr>\n",
       "    <tr>\n",
       "      <th>886</th>\n",
       "      <td>2.0</td>\n",
       "      <td>27.0</td>\n",
       "      <td>0.0</td>\n",
       "      <td>0.0</td>\n",
       "      <td>13.0000</td>\n",
       "      <td>0.0</td>\n",
       "      <td>1.0</td>\n",
       "      <td>0.0</td>\n",
       "      <td>0.0</td>\n",
       "      <td>1.0</td>\n",
       "    </tr>\n",
       "    <tr>\n",
       "      <th>887</th>\n",
       "      <td>1.0</td>\n",
       "      <td>19.0</td>\n",
       "      <td>0.0</td>\n",
       "      <td>0.0</td>\n",
       "      <td>30.0000</td>\n",
       "      <td>1.0</td>\n",
       "      <td>0.0</td>\n",
       "      <td>0.0</td>\n",
       "      <td>0.0</td>\n",
       "      <td>1.0</td>\n",
       "    </tr>\n",
       "    <tr>\n",
       "      <th>888</th>\n",
       "      <td>3.0</td>\n",
       "      <td>28.0</td>\n",
       "      <td>1.0</td>\n",
       "      <td>2.0</td>\n",
       "      <td>23.4500</td>\n",
       "      <td>1.0</td>\n",
       "      <td>0.0</td>\n",
       "      <td>0.0</td>\n",
       "      <td>0.0</td>\n",
       "      <td>1.0</td>\n",
       "    </tr>\n",
       "    <tr>\n",
       "      <th>889</th>\n",
       "      <td>1.0</td>\n",
       "      <td>26.0</td>\n",
       "      <td>0.0</td>\n",
       "      <td>0.0</td>\n",
       "      <td>30.0000</td>\n",
       "      <td>0.0</td>\n",
       "      <td>1.0</td>\n",
       "      <td>1.0</td>\n",
       "      <td>0.0</td>\n",
       "      <td>0.0</td>\n",
       "    </tr>\n",
       "    <tr>\n",
       "      <th>890</th>\n",
       "      <td>3.0</td>\n",
       "      <td>32.0</td>\n",
       "      <td>0.0</td>\n",
       "      <td>0.0</td>\n",
       "      <td>7.7500</td>\n",
       "      <td>0.0</td>\n",
       "      <td>1.0</td>\n",
       "      <td>0.0</td>\n",
       "      <td>1.0</td>\n",
       "      <td>0.0</td>\n",
       "    </tr>\n",
       "  </tbody>\n",
       "</table>\n",
       "<p>891 rows × 10 columns</p>\n",
       "</div>"
      ],
      "text/plain": [
       "     Pclass   Age  SibSp  Parch     Fare  x0_female  x0_male  x1_C  x1_Q  x1_S\n",
       "0       3.0  22.0    1.0    0.0   7.2500        0.0      1.0   0.0   0.0   1.0\n",
       "1       1.0  38.0    1.0    0.0  71.2833        1.0      0.0   1.0   0.0   0.0\n",
       "2       3.0  26.0    0.0    0.0   7.9250        1.0      0.0   0.0   0.0   1.0\n",
       "3       1.0  35.0    1.0    0.0  53.1000        1.0      0.0   0.0   0.0   1.0\n",
       "4       3.0  35.0    0.0    0.0   8.0500        0.0      1.0   0.0   0.0   1.0\n",
       "..      ...   ...    ...    ...      ...        ...      ...   ...   ...   ...\n",
       "886     2.0  27.0    0.0    0.0  13.0000        0.0      1.0   0.0   0.0   1.0\n",
       "887     1.0  19.0    0.0    0.0  30.0000        1.0      0.0   0.0   0.0   1.0\n",
       "888     3.0  28.0    1.0    2.0  23.4500        1.0      0.0   0.0   0.0   1.0\n",
       "889     1.0  26.0    0.0    0.0  30.0000        0.0      1.0   1.0   0.0   0.0\n",
       "890     3.0  32.0    0.0    0.0   7.7500        0.0      1.0   0.0   1.0   0.0\n",
       "\n",
       "[891 rows x 10 columns]"
      ]
     },
     "execution_count": 3,
     "metadata": {},
     "output_type": "execute_result"
    }
   ],
   "source": [
    "#Get the transformed dataset\n",
    "X_preprocessed = pd.DataFrame(preprocessor.fit_transform(X))\n",
    "X_preprocessed.columns = numerical_cols(X)+list(my_pipeline.named_steps['preprocessor'].transformers_[1][1].named_steps['onehot'].get_feature_names())\n",
    "X_preprocessed"
   ]
  },
  {
   "cell_type": "markdown",
   "id": "af16f21a",
   "metadata": {
    "papermill": {
     "duration": 0.023991,
     "end_time": "2022-01-08T01:33:50.409513",
     "exception": false,
     "start_time": "2022-01-08T01:33:50.385522",
     "status": "completed"
    },
    "tags": []
   },
   "source": [
    "**1. O primeiro passo é a avaliação da importância de cada feature que já está no banco de dados de teste, para isso será criada uma função que produza um gráfico indicado o Mutual Information score de cada feature existente no banco de dados d treino, em relação ao target**"
   ]
  },
  {
   "cell_type": "code",
   "execution_count": 4,
   "id": "146dd2cc",
   "metadata": {
    "execution": {
     "iopub.execute_input": "2022-01-08T01:33:50.467517Z",
     "iopub.status.busy": "2022-01-08T01:33:50.466349Z",
     "iopub.status.idle": "2022-01-08T01:33:50.990973Z",
     "shell.execute_reply": "2022-01-08T01:33:50.990442Z",
     "shell.execute_reply.started": "2022-01-08T01:17:23.471024Z"
    },
    "papermill": {
     "duration": 0.557461,
     "end_time": "2022-01-08T01:33:50.991131",
     "exception": false,
     "start_time": "2022-01-08T01:33:50.433670",
     "status": "completed"
    },
    "tags": []
   },
   "outputs": [
    {
     "name": "stdout",
     "output_type": "stream",
     "text": [
      "x0_female    0.149227\n",
      "x0_male      0.138992\n",
      "Fare         0.123840\n",
      "Age          0.046738\n",
      "Pclass       0.037417\n",
      "SibSp        0.030693\n",
      "x1_S         0.019123\n",
      "Parch        0.000000\n",
      "x1_C         0.000000\n",
      "x1_Q         0.000000\n",
      "Name: MI Scores, dtype: float64\n"
     ]
    },
    {
     "data": {
      "image/png": "[encoded data removed]",
      "text/plain": [
       "<Figure size 800x500 with 1 Axes>"
      ]
     },
     "metadata": {},
     "output_type": "display_data"
    }
   ],
   "source": [
    "from sklearn.feature_selection import mutual_info_regression\n",
    "\n",
    "# Utility functions from Tutorial\n",
    "def make_mi_scores(X, y):\n",
    "    X = X.copy()\n",
    "    # All discrete features should now have integer dtypes\n",
    "    discrete_features = [pd.api.types.is_integer_dtype(t) for t in X.dtypes]\n",
    "    mi_scores = mutual_info_regression(X, y, discrete_features=discrete_features, random_state=0)\n",
    "    mi_scores = pd.Series(mi_scores, name=\"MI Scores\", index=X.columns)\n",
    "    mi_scores = mi_scores.sort_values(ascending=False)\n",
    "    return mi_scores\n",
    "\n",
    "\n",
    "def plot_mi_scores(scores):\n",
    "    scores = scores.sort_values(ascending=True)\n",
    "    width = np.arange(len(scores))\n",
    "    ticks = list(scores.index)\n",
    "    plt.barh(width, scores)\n",
    "    plt.yticks(width, ticks)\n",
    "    plt.title(\"Mutual Information Scores\")\n",
    "    \n",
    "mi_scores = make_mi_scores(X_preprocessed, y)\n",
    "print(mi_scores.head(20))\n",
    "# print(mi_scores.tail(20))  # uncomment to see bottom 20\n",
    "\n",
    "plt.figure(dpi=100, figsize=(8, 5))\n",
    "plot_mi_scores(mi_scores.head(20))"
   ]
  },
  {
   "cell_type": "markdown",
   "id": "41ff2e2c",
   "metadata": {
    "papermill": {
     "duration": 0.026924,
     "end_time": "2022-01-08T01:33:51.043805",
     "exception": false,
     "start_time": "2022-01-08T01:33:51.016881",
     "status": "completed"
    },
    "tags": []
   },
   "source": [
    "**2. Após a observação do gráfico gerado é possível concluir que as features que as features com maior influência no target são “Fare”, “Sex” e “Age”, por este motivo, elas serão analisadas mais a fundo por meio da utilização de gráficos. Para facilitar a visualização dos dados, é útil que seja usado um banco de dados que ainda contenha as features categóricas originais**"
   ]
  },
  {
   "cell_type": "code",
   "execution_count": 5,
   "id": "65b2bef5",
   "metadata": {
    "execution": {
     "iopub.execute_input": "2022-01-08T01:33:51.098625Z",
     "iopub.status.busy": "2022-01-08T01:33:51.097810Z",
     "iopub.status.idle": "2022-01-08T01:33:52.046463Z",
     "shell.execute_reply": "2022-01-08T01:33:52.047067Z",
     "shell.execute_reply.started": "2022-01-08T01:17:23.877718Z"
    },
    "papermill": {
     "duration": 0.977731,
     "end_time": "2022-01-08T01:33:52.047255",
     "exception": false,
     "start_time": "2022-01-08T01:33:51.069524",
     "status": "completed"
    },
    "tags": []
   },
   "outputs": [
    {
     "data": {
      "text/plain": [
       "<AxesSubplot:xlabel='Fare', ylabel='Count'>"
      ]
     },
     "execution_count": 5,
     "metadata": {},
     "output_type": "execute_result"
    },
    {
     "data": {
      "image/png": "[encoded data removed]",
      "text/plain": [
       "<Figure size 1152x432 with 2 Axes>"
      ]
     },
     "metadata": {},
     "output_type": "display_data"
    }
   ],
   "source": [
    "plt.figure(figsize=[16,6])\n",
    "\n",
    "plt.subplot(121)\n",
    "sns.histplot(data=train_data, hue=\"Survived\", bins=range(0, 550, 20), x=\"Fare\",  multiple='dodge')\n",
    "\n",
    "plt.subplot(122)\n",
    "sns.histplot(data=train_data, hue=\"Sex\", bins=range(0, 550, 20), x=\"Fare\",  multiple='dodge')"
   ]
  },
  {
   "cell_type": "code",
   "execution_count": 6,
   "id": "505bbdb2",
   "metadata": {
    "execution": {
     "iopub.execute_input": "2022-01-08T01:33:52.106343Z",
     "iopub.status.busy": "2022-01-08T01:33:52.105484Z",
     "iopub.status.idle": "2022-01-08T01:33:53.866971Z",
     "shell.execute_reply": "2022-01-08T01:33:53.867665Z",
     "shell.execute_reply.started": "2022-01-08T01:17:24.712820Z"
    },
    "papermill": {
     "duration": 1.792371,
     "end_time": "2022-01-08T01:33:53.867839",
     "exception": false,
     "start_time": "2022-01-08T01:33:52.075468",
     "status": "completed"
    },
    "tags": []
   },
   "outputs": [
    {
     "data": {
      "text/plain": [
       "<AxesSubplot:xlabel='Age', ylabel='Count'>"
      ]
     },
     "execution_count": 6,
     "metadata": {},
     "output_type": "execute_result"
    },
    {
     "data": {
      "image/png": "[encoded data removed]",
      "text/plain": [
       "<Figure size 1152x864 with 4 Axes>"
      ]
     },
     "metadata": {},
     "output_type": "display_data"
    }
   ],
   "source": [
    "plt.figure(figsize=[16,12])\n",
    "\n",
    "plt.subplot(221)\n",
    "sns.histplot(data=train_data, hue=\"Sex\", hue_order=[\"female\", \"male\"], x=\"Age\",  multiple='dodge') \n",
    "\n",
    "plt.subplot(222)\n",
    "sns.histplot(data=train_data.loc[train_data['Survived']==1], hue=\"Sex\", hue_order=[\"female\", \"male\"], x=\"Age\",  multiple='dodge')\n",
    "\n",
    "plt.subplot(223)\n",
    "sns.histplot(data=train_data.loc[train_data['Sex']==\"male\"], hue=\"Survived\", x=\"Age\",  multiple='dodge')\n",
    "\n",
    "plt.subplot(224)\n",
    "sns.histplot(data=train_data.loc[train_data['Sex']==\"female\"], hue=\"Survived\", x=\"Age\",  multiple='dodge')"
   ]
  },
  {
   "cell_type": "markdown",
   "id": "1943e6b5",
   "metadata": {
    "papermill": {
     "duration": 0.028719,
     "end_time": "2022-01-08T01:33:53.925629",
     "exception": false,
     "start_time": "2022-01-08T01:33:53.896910",
     "status": "completed"
    },
    "tags": []
   },
   "source": [
    "# Feature Construction"
   ]
  },
  {
   "cell_type": "markdown",
   "id": "5ed10367",
   "metadata": {
    "papermill": {
     "duration": 0.029412,
     "end_time": "2022-01-08T01:33:53.985002",
     "exception": false,
     "start_time": "2022-01-08T01:33:53.955590",
     "status": "completed"
    },
    "tags": []
   },
   "source": [
    "**1. Na feature “Name” existe, para cada passageiro, um título, como “Mr” ou “Miss”. Esta informação pode ser útil, então podemos criar uma nova coluna para obter estes dados.**"
   ]
  },
  {
   "cell_type": "code",
   "execution_count": 7,
   "id": "96f8db52",
   "metadata": {
    "execution": {
     "iopub.execute_input": "2022-01-08T01:33:54.059377Z",
     "iopub.status.busy": "2022-01-08T01:33:54.058659Z",
     "iopub.status.idle": "2022-01-08T01:33:54.061423Z",
     "shell.execute_reply": "2022-01-08T01:33:54.060839Z",
     "shell.execute_reply.started": "2022-01-08T01:17:26.270729Z"
    },
    "papermill": {
     "duration": 0.047857,
     "end_time": "2022-01-08T01:33:54.061570",
     "exception": false,
     "start_time": "2022-01-08T01:33:54.013713",
     "status": "completed"
    },
    "tags": []
   },
   "outputs": [],
   "source": [
    "#a. A partir de “Name” criar a feature “Title” para separar os valores, primeiramente, pela vírgula, e depois pelo ponto. Para isso deve-se utilizar o \n",
    "#   método str.split, lembre-se de criar uma nova coluna para armazenar estas informações, após isso, pode-se excluir a feature “Names”\n",
    "X2 = train_data.copy()\n",
    "X2.drop(['PassengerId','Name'], axis=1, inplace=True) # not important for training, but must be used for submitting results\n",
    "y2 = X2.pop(\"Survived\")\n",
    "\n",
    "X2['Title'] = train_data['Name'].str.split(\", \", expand=True)[1].str.split(\".\", expand=True)[0].copy()"
   ]
  },
  {
   "cell_type": "markdown",
   "id": "8a970b5d",
   "metadata": {
    "papermill": {
     "duration": 0.028567,
     "end_time": "2022-01-08T01:33:54.119157",
     "exception": false,
     "start_time": "2022-01-08T01:33:54.090590",
     "status": "completed"
    },
    "tags": []
   },
   "source": [
    "**2. Criar novas Features para resumir informações de outras já existentes, uma para indicar o número total de familiares de cada passageiro, sejam eles primos, filhos ou acompanhantes, e outra para informar se o passageiro está sozinho ou não.**"
   ]
  },
  {
   "cell_type": "code",
   "execution_count": 8,
   "id": "7263c756",
   "metadata": {
    "execution": {
     "iopub.execute_input": "2022-01-08T01:33:54.181584Z",
     "iopub.status.busy": "2022-01-08T01:33:54.180796Z",
     "iopub.status.idle": "2022-01-08T01:33:54.209373Z",
     "shell.execute_reply": "2022-01-08T01:33:54.208798Z",
     "shell.execute_reply.started": "2022-01-08T01:17:26.286927Z"
    },
    "papermill": {
     "duration": 0.060571,
     "end_time": "2022-01-08T01:33:54.209511",
     "exception": false,
     "start_time": "2022-01-08T01:33:54.148940",
     "status": "completed"
    },
    "tags": []
   },
   "outputs": [
    {
     "name": "stderr",
     "output_type": "stream",
     "text": [
      "/opt/conda/lib/python3.7/site-packages/pandas/core/indexing.py:1732: SettingWithCopyWarning: \n",
      "A value is trying to be set on a copy of a slice from a DataFrame\n",
      "\n",
      "See the caveats in the documentation: https://pandas.pydata.org/pandas-docs/stable/user_guide/indexing.html#returning-a-view-versus-a-copy\n",
      "  self._setitem_single_block(indexer, value, name)\n"
     ]
    },
    {
     "data": {
      "text/html": [
       "<div>\n",
       "<style scoped>\n",
       "    .dataframe tbody tr th:only-of-type {\n",
       "        vertical-align: middle;\n",
       "    }\n",
       "\n",
       "    .dataframe tbody tr th {\n",
       "        vertical-align: top;\n",
       "    }\n",
       "\n",
       "    .dataframe thead th {\n",
       "        text-align: right;\n",
       "    }\n",
       "</style>\n",
       "<table border=\"1\" class=\"dataframe\">\n",
       "  <thead>\n",
       "    <tr style=\"text-align: right;\">\n",
       "      <th></th>\n",
       "      <th>Pclass</th>\n",
       "      <th>Sex</th>\n",
       "      <th>Age</th>\n",
       "      <th>SibSp</th>\n",
       "      <th>Parch</th>\n",
       "      <th>Fare</th>\n",
       "      <th>Embarked</th>\n",
       "      <th>Title</th>\n",
       "      <th>FamilySize</th>\n",
       "      <th>IsAlone</th>\n",
       "    </tr>\n",
       "  </thead>\n",
       "  <tbody>\n",
       "    <tr>\n",
       "      <th>0</th>\n",
       "      <td>3</td>\n",
       "      <td>male</td>\n",
       "      <td>22.0</td>\n",
       "      <td>1</td>\n",
       "      <td>0</td>\n",
       "      <td>7.2500</td>\n",
       "      <td>S</td>\n",
       "      <td>Mr</td>\n",
       "      <td>2</td>\n",
       "      <td>0</td>\n",
       "    </tr>\n",
       "    <tr>\n",
       "      <th>1</th>\n",
       "      <td>1</td>\n",
       "      <td>female</td>\n",
       "      <td>38.0</td>\n",
       "      <td>1</td>\n",
       "      <td>0</td>\n",
       "      <td>71.2833</td>\n",
       "      <td>C</td>\n",
       "      <td>Mrs</td>\n",
       "      <td>2</td>\n",
       "      <td>0</td>\n",
       "    </tr>\n",
       "    <tr>\n",
       "      <th>2</th>\n",
       "      <td>3</td>\n",
       "      <td>female</td>\n",
       "      <td>26.0</td>\n",
       "      <td>0</td>\n",
       "      <td>0</td>\n",
       "      <td>7.9250</td>\n",
       "      <td>S</td>\n",
       "      <td>Miss</td>\n",
       "      <td>1</td>\n",
       "      <td>1</td>\n",
       "    </tr>\n",
       "    <tr>\n",
       "      <th>3</th>\n",
       "      <td>1</td>\n",
       "      <td>female</td>\n",
       "      <td>35.0</td>\n",
       "      <td>1</td>\n",
       "      <td>0</td>\n",
       "      <td>53.1000</td>\n",
       "      <td>S</td>\n",
       "      <td>Mrs</td>\n",
       "      <td>2</td>\n",
       "      <td>0</td>\n",
       "    </tr>\n",
       "    <tr>\n",
       "      <th>4</th>\n",
       "      <td>3</td>\n",
       "      <td>male</td>\n",
       "      <td>35.0</td>\n",
       "      <td>0</td>\n",
       "      <td>0</td>\n",
       "      <td>8.0500</td>\n",
       "      <td>S</td>\n",
       "      <td>Mr</td>\n",
       "      <td>1</td>\n",
       "      <td>1</td>\n",
       "    </tr>\n",
       "    <tr>\n",
       "      <th>...</th>\n",
       "      <td>...</td>\n",
       "      <td>...</td>\n",
       "      <td>...</td>\n",
       "      <td>...</td>\n",
       "      <td>...</td>\n",
       "      <td>...</td>\n",
       "      <td>...</td>\n",
       "      <td>...</td>\n",
       "      <td>...</td>\n",
       "      <td>...</td>\n",
       "    </tr>\n",
       "    <tr>\n",
       "      <th>886</th>\n",
       "      <td>2</td>\n",
       "      <td>male</td>\n",
       "      <td>27.0</td>\n",
       "      <td>0</td>\n",
       "      <td>0</td>\n",
       "      <td>13.0000</td>\n",
       "      <td>S</td>\n",
       "      <td>Rev</td>\n",
       "      <td>1</td>\n",
       "      <td>1</td>\n",
       "    </tr>\n",
       "    <tr>\n",
       "      <th>887</th>\n",
       "      <td>1</td>\n",
       "      <td>female</td>\n",
       "      <td>19.0</td>\n",
       "      <td>0</td>\n",
       "      <td>0</td>\n",
       "      <td>30.0000</td>\n",
       "      <td>S</td>\n",
       "      <td>Miss</td>\n",
       "      <td>1</td>\n",
       "      <td>1</td>\n",
       "    </tr>\n",
       "    <tr>\n",
       "      <th>888</th>\n",
       "      <td>3</td>\n",
       "      <td>female</td>\n",
       "      <td>NaN</td>\n",
       "      <td>1</td>\n",
       "      <td>2</td>\n",
       "      <td>23.4500</td>\n",
       "      <td>S</td>\n",
       "      <td>Miss</td>\n",
       "      <td>4</td>\n",
       "      <td>0</td>\n",
       "    </tr>\n",
       "    <tr>\n",
       "      <th>889</th>\n",
       "      <td>1</td>\n",
       "      <td>male</td>\n",
       "      <td>26.0</td>\n",
       "      <td>0</td>\n",
       "      <td>0</td>\n",
       "      <td>30.0000</td>\n",
       "      <td>C</td>\n",
       "      <td>Mr</td>\n",
       "      <td>1</td>\n",
       "      <td>1</td>\n",
       "    </tr>\n",
       "    <tr>\n",
       "      <th>890</th>\n",
       "      <td>3</td>\n",
       "      <td>male</td>\n",
       "      <td>32.0</td>\n",
       "      <td>0</td>\n",
       "      <td>0</td>\n",
       "      <td>7.7500</td>\n",
       "      <td>Q</td>\n",
       "      <td>Mr</td>\n",
       "      <td>1</td>\n",
       "      <td>1</td>\n",
       "    </tr>\n",
       "  </tbody>\n",
       "</table>\n",
       "<p>891 rows × 10 columns</p>\n",
       "</div>"
      ],
      "text/plain": [
       "     Pclass     Sex   Age  SibSp  Parch     Fare Embarked Title  FamilySize  \\\n",
       "0         3    male  22.0      1      0   7.2500        S    Mr           2   \n",
       "1         1  female  38.0      1      0  71.2833        C   Mrs           2   \n",
       "2         3  female  26.0      0      0   7.9250        S  Miss           1   \n",
       "3         1  female  35.0      1      0  53.1000        S   Mrs           2   \n",
       "4         3    male  35.0      0      0   8.0500        S    Mr           1   \n",
       "..      ...     ...   ...    ...    ...      ...      ...   ...         ...   \n",
       "886       2    male  27.0      0      0  13.0000        S   Rev           1   \n",
       "887       1  female  19.0      0      0  30.0000        S  Miss           1   \n",
       "888       3  female   NaN      1      2  23.4500        S  Miss           4   \n",
       "889       1    male  26.0      0      0  30.0000        C    Mr           1   \n",
       "890       3    male  32.0      0      0   7.7500        Q    Mr           1   \n",
       "\n",
       "     IsAlone  \n",
       "0          0  \n",
       "1          0  \n",
       "2          1  \n",
       "3          0  \n",
       "4          1  \n",
       "..       ...  \n",
       "886        1  \n",
       "887        1  \n",
       "888        0  \n",
       "889        1  \n",
       "890        1  \n",
       "\n",
       "[891 rows x 10 columns]"
      ]
     },
     "execution_count": 8,
     "metadata": {},
     "output_type": "execute_result"
    }
   ],
   "source": [
    "#a. Criar feature que indique o tamanho da família, somando “SibSp” e “Parch”.\n",
    "X2['FamilySize'] = X2['SibSp'] + X2['Parch'] + 1\n",
    "    \n",
    "#b. Criar feature booleana indicando se o passageiro está sozinho, sendo, verdadeiro caso não tenha nenhum familiar a bordo, e falso caso tenha.\n",
    "X2['IsAlone'] = 1 #initialize to yes/1 is alone\n",
    "X2['IsAlone'].loc[X2['FamilySize'] > 1] = 0 # now update to no/0 if family size is greater than 1\n",
    "X2"
   ]
  },
  {
   "cell_type": "markdown",
   "id": "d5b6d0d6",
   "metadata": {
    "papermill": {
     "duration": 0.029763,
     "end_time": "2022-01-08T01:33:54.268600",
     "exception": false,
     "start_time": "2022-01-08T01:33:54.238837",
     "status": "completed"
    },
    "tags": []
   },
   "source": [
    "# Feature Extraction"
   ]
  },
  {
   "cell_type": "markdown",
   "id": "2a86e7ea",
   "metadata": {
    "papermill": {
     "duration": 0.029038,
     "end_time": "2022-01-08T01:33:54.327503",
     "exception": false,
     "start_time": "2022-01-08T01:33:54.298465",
     "status": "completed"
    },
    "tags": []
   },
   "source": [
    "**1. No banco de dados em que estamos trabalhando existem duas features com valores contínuos, são \"Fare'' e “Age”, portanto, a partir da interação entre elas pode-se criar grupos utilizando K-means como forma de clustering.**"
   ]
  },
  {
   "cell_type": "code",
   "execution_count": 9,
   "id": "966e50b8",
   "metadata": {
    "execution": {
     "iopub.execute_input": "2022-01-08T01:33:54.398432Z",
     "iopub.status.busy": "2022-01-08T01:33:54.393487Z",
     "iopub.status.idle": "2022-01-08T01:33:54.736990Z",
     "shell.execute_reply": "2022-01-08T01:33:54.736073Z",
     "shell.execute_reply.started": "2022-01-08T01:17:26.317369Z"
    },
    "papermill": {
     "duration": 0.380402,
     "end_time": "2022-01-08T01:33:54.737156",
     "exception": false,
     "start_time": "2022-01-08T01:33:54.356754",
     "status": "completed"
    },
    "tags": []
   },
   "outputs": [
    {
     "data": {
      "image/png": "[encoded data removed]",
      "text/plain": [
       "<Figure size 360x360 with 1 Axes>"
      ]
     },
     "metadata": {},
     "output_type": "display_data"
    }
   ],
   "source": [
    "#a. O primeiro passo é analisar a distribuição dos passageiros levando em consideração “Fare” e “Age”\n",
    "#  i. Produzir um gráfico, do tipo scatter plot, colocando “Age” e “Fare” como eixos.\n",
    "#  ii. Nesta distribuição é possível identificar outliers, esses valores devem ser retirados para que o algoritmo k-means, encontre os grupos da maneira \n",
    "#      correta. Como esses valores podem ser retirados?\n",
    "sns.relplot(x=\"Fare\", y=\"Age\", data=X2);"
   ]
  },
  {
   "cell_type": "markdown",
   "id": "69ddb949",
   "metadata": {
    "papermill": {
     "duration": 0.032206,
     "end_time": "2022-01-08T01:33:54.800438",
     "exception": false,
     "start_time": "2022-01-08T01:33:54.768232",
     "status": "completed"
    },
    "tags": []
   },
   "source": [
    "**b. Agora será necessário criar os grupos utilizando a biblioteca K-means do sklearn**"
   ]
  },
  {
   "cell_type": "code",
   "execution_count": 10,
   "id": "c72d7da5",
   "metadata": {
    "execution": {
     "iopub.execute_input": "2022-01-08T01:33:54.870058Z",
     "iopub.status.busy": "2022-01-08T01:33:54.869288Z",
     "iopub.status.idle": "2022-01-08T01:33:55.048740Z",
     "shell.execute_reply": "2022-01-08T01:33:55.049360Z",
     "shell.execute_reply.started": "2022-01-08T01:17:26.576581Z"
    },
    "papermill": {
     "duration": 0.218096,
     "end_time": "2022-01-08T01:33:55.049572",
     "exception": false,
     "start_time": "2022-01-08T01:33:54.831476",
     "status": "completed"
    },
    "tags": []
   },
   "outputs": [
    {
     "data": {
      "text/html": [
       "<div>\n",
       "<style scoped>\n",
       "    .dataframe tbody tr th:only-of-type {\n",
       "        vertical-align: middle;\n",
       "    }\n",
       "\n",
       "    .dataframe tbody tr th {\n",
       "        vertical-align: top;\n",
       "    }\n",
       "\n",
       "    .dataframe thead th {\n",
       "        text-align: right;\n",
       "    }\n",
       "</style>\n",
       "<table border=\"1\" class=\"dataframe\">\n",
       "  <thead>\n",
       "    <tr style=\"text-align: right;\">\n",
       "      <th></th>\n",
       "      <th>Fare</th>\n",
       "      <th>Age</th>\n",
       "      <th>Cluster</th>\n",
       "    </tr>\n",
       "  </thead>\n",
       "  <tbody>\n",
       "    <tr>\n",
       "      <th>0</th>\n",
       "      <td>7.2500</td>\n",
       "      <td>22.0</td>\n",
       "      <td>4</td>\n",
       "    </tr>\n",
       "    <tr>\n",
       "      <th>1</th>\n",
       "      <td>71.2833</td>\n",
       "      <td>38.0</td>\n",
       "      <td>5</td>\n",
       "    </tr>\n",
       "    <tr>\n",
       "      <th>2</th>\n",
       "      <td>7.9250</td>\n",
       "      <td>26.0</td>\n",
       "      <td>4</td>\n",
       "    </tr>\n",
       "    <tr>\n",
       "      <th>3</th>\n",
       "      <td>53.1000</td>\n",
       "      <td>35.0</td>\n",
       "      <td>5</td>\n",
       "    </tr>\n",
       "    <tr>\n",
       "      <th>4</th>\n",
       "      <td>8.0500</td>\n",
       "      <td>35.0</td>\n",
       "      <td>4</td>\n",
       "    </tr>\n",
       "    <tr>\n",
       "      <th>...</th>\n",
       "      <td>...</td>\n",
       "      <td>...</td>\n",
       "      <td>...</td>\n",
       "    </tr>\n",
       "    <tr>\n",
       "      <th>886</th>\n",
       "      <td>13.0000</td>\n",
       "      <td>27.0</td>\n",
       "      <td>4</td>\n",
       "    </tr>\n",
       "    <tr>\n",
       "      <th>887</th>\n",
       "      <td>30.0000</td>\n",
       "      <td>19.0</td>\n",
       "      <td>1</td>\n",
       "    </tr>\n",
       "    <tr>\n",
       "      <th>888</th>\n",
       "      <td>23.4500</td>\n",
       "      <td>28.0</td>\n",
       "      <td>1</td>\n",
       "    </tr>\n",
       "    <tr>\n",
       "      <th>889</th>\n",
       "      <td>30.0000</td>\n",
       "      <td>26.0</td>\n",
       "      <td>1</td>\n",
       "    </tr>\n",
       "    <tr>\n",
       "      <th>890</th>\n",
       "      <td>7.7500</td>\n",
       "      <td>32.0</td>\n",
       "      <td>4</td>\n",
       "    </tr>\n",
       "  </tbody>\n",
       "</table>\n",
       "<p>888 rows × 3 columns</p>\n",
       "</div>"
      ],
      "text/plain": [
       "        Fare   Age  Cluster\n",
       "0     7.2500  22.0        4\n",
       "1    71.2833  38.0        5\n",
       "2     7.9250  26.0        4\n",
       "3    53.1000  35.0        5\n",
       "4     8.0500  35.0        4\n",
       "..       ...   ...      ...\n",
       "886  13.0000  27.0        4\n",
       "887  30.0000  19.0        1\n",
       "888  23.4500  28.0        1\n",
       "889  30.0000  26.0        1\n",
       "890   7.7500  32.0        4\n",
       "\n",
       "[888 rows x 3 columns]"
      ]
     },
     "execution_count": 10,
     "metadata": {},
     "output_type": "execute_result"
    }
   ],
   "source": [
    "from sklearn.cluster import KMeans\n",
    "#i. Crie um dataframe que contenha apenas as features “Age” e “Fare”, para remover os outliers, selecione apenas os passageiros que tenham as taxas menores \n",
    "#   que 500.\n",
    "X3 = X_preprocessed[[\"Fare\",\"Age\"]].copy()\n",
    "X3=X3[X3[\"Fare\"]<500]\n",
    "#ii. Crie um algoritmo k-means que produza 6 grupos.\n",
    "kmeans = KMeans(n_clusters=6)\n",
    "\n",
    "#iii. Utilizando este algoritmo, produza uma nova coluna no dataframe criado, contendo os grupos de cada passageiro\n",
    "X3[\"Cluster\"] = kmeans.fit_predict(X3)\n",
    "X3\n"
   ]
  },
  {
   "cell_type": "markdown",
   "id": "cc5ecaa8",
   "metadata": {
    "papermill": {
     "duration": 0.037103,
     "end_time": "2022-01-08T01:33:55.125773",
     "exception": false,
     "start_time": "2022-01-08T01:33:55.088670",
     "status": "completed"
    },
    "tags": []
   },
   "source": [
    "**c. Agora será útil entender quais as características de cada grupo criado pelo algoritmo, para isso serão utilizados dois gráficos, um para identificar os grupos na distribuição “Age” x “Fare”, outro para avaliá-los em relação à chance de sobrevivência.**"
   ]
  },
  {
   "cell_type": "code",
   "execution_count": 11,
   "id": "fe817627",
   "metadata": {
    "execution": {
     "iopub.execute_input": "2022-01-08T01:33:55.210920Z",
     "iopub.status.busy": "2022-01-08T01:33:55.210117Z",
     "iopub.status.idle": "2022-01-08T01:33:56.018171Z",
     "shell.execute_reply": "2022-01-08T01:33:56.018807Z",
     "shell.execute_reply.started": "2022-01-08T01:17:26.690834Z"
    },
    "papermill": {
     "duration": 0.85531,
     "end_time": "2022-01-08T01:33:56.019230",
     "exception": false,
     "start_time": "2022-01-08T01:33:55.163920",
     "status": "completed"
    },
    "tags": []
   },
   "outputs": [
    {
     "data": {
      "image/png": "[encoded data removed]",
      "text/plain": [
       "<Figure size 411.875x360 with 1 Axes>"
      ]
     },
     "metadata": {},
     "output_type": "display_data"
    }
   ],
   "source": [
    "#i. Adicionar a nova feature ao banco de dados de treino. \n",
    "train_data[\"Cluster\"] = X3[\"Cluster\"].copy()\n",
    "#ii. Construir um gráfico scatter plot que mostra a distribuição “Fare” x “Age”, tendo os grupos como camadas.\n",
    "sns.relplot(x=\"Fare\", y=\"Age\", hue=\"Cluster\", data=train_data);\n"
   ]
  },
  {
   "cell_type": "code",
   "execution_count": 12,
   "id": "65897f65",
   "metadata": {
    "execution": {
     "iopub.execute_input": "2022-01-08T01:33:56.117802Z",
     "iopub.status.busy": "2022-01-08T01:33:56.117065Z",
     "iopub.status.idle": "2022-01-08T01:33:56.574456Z",
     "shell.execute_reply": "2022-01-08T01:33:56.573871Z",
     "shell.execute_reply.started": "2022-01-08T01:17:27.535227Z"
    },
    "papermill": {
     "duration": 0.512782,
     "end_time": "2022-01-08T01:33:56.574602",
     "exception": false,
     "start_time": "2022-01-08T01:33:56.061820",
     "status": "completed"
    },
    "tags": []
   },
   "outputs": [
    {
     "data": {
      "text/plain": [
       "<AxesSubplot:xlabel='Cluster', ylabel='Count'>"
      ]
     },
     "execution_count": 12,
     "metadata": {},
     "output_type": "execute_result"
    },
    {
     "data": {
      "image/png": "[encoded data removed]",
      "text/plain": [
       "<Figure size 432x288 with 1 Axes>"
      ]
     },
     "metadata": {},
     "output_type": "display_data"
    }
   ],
   "source": [
    "#iii. Um gráfico bar chart que indique a chance de sobrevivência, em média, de cada grupo.\n",
    "sns.histplot(data=train_data, x=\"Cluster\", hue=\"Survived\", multiple='dodge')\n",
    "#sns.barplot(x=X_preprocessed.Cluster, y=X_preprocessed[\"Survived\"].astype(bool).sum(axis=0))\n",
    "#iv. Faça uma análise qualitativa do que cada grupo representa e discuta sobre as chances de sobrevivência médias"
   ]
  },
  {
   "cell_type": "markdown",
   "id": "763b159f",
   "metadata": {
    "papermill": {
     "duration": 0.033985,
     "end_time": "2022-01-08T01:33:56.643123",
     "exception": false,
     "start_time": "2022-01-08T01:33:56.609138",
     "status": "completed"
    },
    "tags": []
   },
   "source": [
    "**2. Ao analisarmos a nova feature, é fácil notar que existem valores nulos, estes valores correspondem aos outliers que foram retirados para a construção dos grupos. Para substituir os NaN, deve-se identificar quem são esses outliers e designar, manualmente, seu grupo**"
   ]
  },
  {
   "cell_type": "code",
   "execution_count": 13,
   "id": "6c0f6c76",
   "metadata": {
    "execution": {
     "iopub.execute_input": "2022-01-08T01:33:56.716182Z",
     "iopub.status.busy": "2022-01-08T01:33:56.715070Z",
     "iopub.status.idle": "2022-01-08T01:33:56.721523Z",
     "shell.execute_reply": "2022-01-08T01:33:56.722130Z",
     "shell.execute_reply.started": "2022-01-08T01:17:27.988207Z"
    },
    "papermill": {
     "duration": 0.044927,
     "end_time": "2022-01-08T01:33:56.722299",
     "exception": false,
     "start_time": "2022-01-08T01:33:56.677372",
     "status": "completed"
    },
    "tags": []
   },
   "outputs": [
    {
     "data": {
      "text/plain": [
       "3"
      ]
     },
     "execution_count": 13,
     "metadata": {},
     "output_type": "execute_result"
    }
   ],
   "source": [
    "train_data[\"Cluster\"].isna().sum()"
   ]
  },
  {
   "cell_type": "code",
   "execution_count": 14,
   "id": "5875409d",
   "metadata": {
    "execution": {
     "iopub.execute_input": "2022-01-08T01:33:56.795559Z",
     "iopub.status.busy": "2022-01-08T01:33:56.794511Z",
     "iopub.status.idle": "2022-01-08T01:33:56.799663Z",
     "shell.execute_reply": "2022-01-08T01:33:56.800311Z",
     "shell.execute_reply.started": "2022-01-08T01:17:27.996771Z"
    },
    "papermill": {
     "duration": 0.043752,
     "end_time": "2022-01-08T01:33:56.800494",
     "exception": false,
     "start_time": "2022-01-08T01:33:56.756742",
     "status": "completed"
    },
    "tags": []
   },
   "outputs": [],
   "source": [
    "train_data[\"Cluster\"] = train_data[\"Cluster\"].fillna(2)"
   ]
  },
  {
   "cell_type": "markdown",
   "id": "94fe2778",
   "metadata": {
    "papermill": {
     "duration": 0.034768,
     "end_time": "2022-01-08T01:33:56.870499",
     "exception": false,
     "start_time": "2022-01-08T01:33:56.835731",
     "status": "completed"
    },
    "tags": []
   },
   "source": [
    "**3. Agora avalie, utilizando mutual information, se a nova feature é significativa para a previsão do target (Utilize os passos mostrados em 9.1 - 1)**"
   ]
  },
  {
   "cell_type": "code",
   "execution_count": 15,
   "id": "f9d3f2b3",
   "metadata": {
    "execution": {
     "iopub.execute_input": "2022-01-08T01:33:56.944619Z",
     "iopub.status.busy": "2022-01-08T01:33:56.943650Z",
     "iopub.status.idle": "2022-01-08T01:33:57.438459Z",
     "shell.execute_reply": "2022-01-08T01:33:57.438950Z",
     "shell.execute_reply.started": "2022-01-08T01:17:28.009737Z"
    },
    "papermill": {
     "duration": 0.533912,
     "end_time": "2022-01-08T01:33:57.439132",
     "exception": false,
     "start_time": "2022-01-08T01:33:56.905220",
     "status": "completed"
    },
    "tags": []
   },
   "outputs": [
    {
     "name": "stdout",
     "output_type": "stream",
     "text": [
      "x0_female    0.150490\n",
      "Fare         0.131156\n",
      "x0_male      0.116506\n",
      "SibSp        0.079257\n",
      "Cluster      0.063524\n",
      "x1_S         0.034743\n",
      "Pclass       0.020989\n",
      "Age          0.016673\n",
      "Parch        0.010615\n",
      "x1_C         0.000000\n",
      "x1_Q         0.000000\n",
      "Name: MI Scores, dtype: float64\n"
     ]
    },
    {
     "data": {
      "image/png": "[encoded data removed]",
      "text/plain": [
       "<Figure size 800x500 with 1 Axes>"
      ]
     },
     "metadata": {},
     "output_type": "display_data"
    }
   ],
   "source": [
    "X_preprocessed[\"Cluster\"] = train_data[\"Cluster\"].copy()\n",
    "\n",
    "mi_scores = make_mi_scores(X_preprocessed, y)\n",
    "print(mi_scores.head(20))\n",
    "# print(mi_scores.tail(20))  # uncomment to see bottom 20\n",
    "\n",
    "plt.figure(dpi=100, figsize=(8, 5))\n",
    "plot_mi_scores(mi_scores.head(20))"
   ]
  },
  {
   "cell_type": "markdown",
   "id": "c9fb0249",
   "metadata": {
    "papermill": {
     "duration": 0.035442,
     "end_time": "2022-01-08T01:33:57.510996",
     "exception": false,
     "start_time": "2022-01-08T01:33:57.475554",
     "status": "completed"
    },
    "tags": []
   },
   "source": [
    "**4. As features originais não representam a mesma grandeza, “Age” conta a idade em anos e “Fare” a taxa de embarque em dólares, portanto, para que seja possível utilizar o PCA, deve-se primeiramente realizar os scaling das variáveis. para esta etapa será utilizado o MinMax Scaler do scikit learn**"
   ]
  },
  {
   "cell_type": "code",
   "execution_count": 16,
   "id": "9f88bc5c",
   "metadata": {
    "execution": {
     "iopub.execute_input": "2022-01-08T01:33:57.586616Z",
     "iopub.status.busy": "2022-01-08T01:33:57.585650Z",
     "iopub.status.idle": "2022-01-08T01:33:57.602412Z",
     "shell.execute_reply": "2022-01-08T01:33:57.602953Z",
     "shell.execute_reply.started": "2022-01-08T01:17:28.499026Z"
    },
    "papermill": {
     "duration": 0.056327,
     "end_time": "2022-01-08T01:33:57.603136",
     "exception": false,
     "start_time": "2022-01-08T01:33:57.546809",
     "status": "completed"
    },
    "tags": []
   },
   "outputs": [
    {
     "data": {
      "text/html": [
       "<div>\n",
       "<style scoped>\n",
       "    .dataframe tbody tr th:only-of-type {\n",
       "        vertical-align: middle;\n",
       "    }\n",
       "\n",
       "    .dataframe tbody tr th {\n",
       "        vertical-align: top;\n",
       "    }\n",
       "\n",
       "    .dataframe thead th {\n",
       "        text-align: right;\n",
       "    }\n",
       "</style>\n",
       "<table border=\"1\" class=\"dataframe\">\n",
       "  <thead>\n",
       "    <tr style=\"text-align: right;\">\n",
       "      <th></th>\n",
       "      <th>Fare</th>\n",
       "      <th>Age</th>\n",
       "      <th>Cluster</th>\n",
       "    </tr>\n",
       "  </thead>\n",
       "  <tbody>\n",
       "    <tr>\n",
       "      <th>0</th>\n",
       "      <td>0.027567</td>\n",
       "      <td>0.271174</td>\n",
       "      <td>4</td>\n",
       "    </tr>\n",
       "    <tr>\n",
       "      <th>1</th>\n",
       "      <td>0.271039</td>\n",
       "      <td>0.472229</td>\n",
       "      <td>5</td>\n",
       "    </tr>\n",
       "    <tr>\n",
       "      <th>2</th>\n",
       "      <td>0.030133</td>\n",
       "      <td>0.321438</td>\n",
       "      <td>4</td>\n",
       "    </tr>\n",
       "    <tr>\n",
       "      <th>3</th>\n",
       "      <td>0.201901</td>\n",
       "      <td>0.434531</td>\n",
       "      <td>5</td>\n",
       "    </tr>\n",
       "    <tr>\n",
       "      <th>4</th>\n",
       "      <td>0.030608</td>\n",
       "      <td>0.434531</td>\n",
       "      <td>4</td>\n",
       "    </tr>\n",
       "  </tbody>\n",
       "</table>\n",
       "</div>"
      ],
      "text/plain": [
       "       Fare       Age  Cluster\n",
       "0  0.027567  0.271174        4\n",
       "1  0.271039  0.472229        5\n",
       "2  0.030133  0.321438        4\n",
       "3  0.201901  0.434531        5\n",
       "4  0.030608  0.434531        4"
      ]
     },
     "execution_count": 16,
     "metadata": {},
     "output_type": "execute_result"
    }
   ],
   "source": [
    "from sklearn.preprocessing import MinMaxScaler\n",
    "\n",
    "scaler = MinMaxScaler()\n",
    "df = pd.DataFrame()\n",
    "columns = [\"Age\",\"Fare\"]\n",
    "\n",
    "X3[columns] = pd.DataFrame(scaler.fit_transform(X3[columns]))\n",
    "   \n",
    "X3.head()"
   ]
  },
  {
   "cell_type": "code",
   "execution_count": 17,
   "id": "4f83def8",
   "metadata": {
    "execution": {
     "iopub.execute_input": "2022-01-08T01:33:57.679949Z",
     "iopub.status.busy": "2022-01-08T01:33:57.678989Z",
     "iopub.status.idle": "2022-01-08T01:33:58.389655Z",
     "shell.execute_reply": "2022-01-08T01:33:58.389053Z",
     "shell.execute_reply.started": "2022-01-08T01:17:28.516713Z"
    },
    "papermill": {
     "duration": 0.750197,
     "end_time": "2022-01-08T01:33:58.389802",
     "exception": false,
     "start_time": "2022-01-08T01:33:57.639605",
     "status": "completed"
    },
    "tags": []
   },
   "outputs": [
    {
     "data": {
      "text/plain": [
       "<AxesSubplot:xlabel='Fare', ylabel='Count'>"
      ]
     },
     "execution_count": 17,
     "metadata": {},
     "output_type": "execute_result"
    },
    {
     "data": {
      "image/png": "[encoded data removed]",
      "text/plain": [
       "<Figure size 1152x432 with 2 Axes>"
      ]
     },
     "metadata": {},
     "output_type": "display_data"
    }
   ],
   "source": [
    "plt.figure(figsize=[16,6])\n",
    "\n",
    "plt.subplot(121)\n",
    "sns.histplot(data=X3, x=\"Age\")\n",
    "\n",
    "plt.subplot(122)\n",
    "sns.histplot(data=X3, x=\"Fare\")"
   ]
  },
  {
   "cell_type": "markdown",
   "id": "d0d0f1cd",
   "metadata": {
    "papermill": {
     "duration": 0.037696,
     "end_time": "2022-01-08T01:33:58.465424",
     "exception": false,
     "start_time": "2022-01-08T01:33:58.427728",
     "status": "completed"
    },
    "tags": []
   },
   "source": [
    "**5. Agora já é possível realizar o PCA, contudo, não há garantias que esta estratégia trará novas informações úteis para o modelo, portanto, é necessário, após a criação dos novos eixos, analisar criticamente se vale a pena introduzi-los ao banco de dados.**"
   ]
  },
  {
   "cell_type": "code",
   "execution_count": 18,
   "id": "0093858c",
   "metadata": {
    "execution": {
     "iopub.execute_input": "2022-01-08T01:33:58.545176Z",
     "iopub.status.busy": "2022-01-08T01:33:58.544148Z",
     "iopub.status.idle": "2022-01-08T01:33:58.548188Z",
     "shell.execute_reply": "2022-01-08T01:33:58.548781Z"
    },
    "papermill": {
     "duration": 0.045684,
     "end_time": "2022-01-08T01:33:58.548991",
     "exception": false,
     "start_time": "2022-01-08T01:33:58.503307",
     "status": "completed"
    },
    "tags": []
   },
   "outputs": [],
   "source": [
    "from sklearn.decomposition import PCA\n",
    "\n",
    "#pca = PCA()\n",
    "#X_pca = pca.fit_transform(X3)"
   ]
  }
 ],
 "metadata": {
  "kernelspec": {
   "display_name": "Python 3",
   "language": "python",
   "name": "python3"
  },
  "language_info": {
   "codemirror_mode": {
    "name": "ipython",
    "version": 3
   },
   "file_extension": ".py",
   "mimetype": "text/x-python",
   "name": "python",
   "nbconvert_exporter": "python",
   "pygments_lexer": "ipython3",
   "version": "3.7.12"
  },
  "papermill": {
   "default_parameters": {},
   "duration": 22.94886,
   "end_time": "2022-01-08T01:33:59.397931",
   "environment_variables": {},
   "exception": null,
   "input_path": "__notebook__.ipynb",
   "output_path": "__notebook__.ipynb",
   "parameters": {},
   "start_time": "2022-01-08T01:33:36.449071",
   "version": "2.3.3"
  }
 },
 "nbformat": 4,
 "nbformat_minor": 5
}
